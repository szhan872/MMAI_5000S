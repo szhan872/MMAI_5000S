{
 "cells": [
  {
   "cell_type": "code",
   "execution_count": 1,
   "metadata": {},
   "outputs": [],
   "source": [
    "import pandas as pd\n",
    "import numpy as np\n",
    "import seaborn as sns\n",
    "import matplotlib.pyplot as plt"
   ]
  },
  {
   "cell_type": "code",
   "execution_count": 2,
   "metadata": {},
   "outputs": [
    {
     "name": "stdout",
     "output_type": "stream",
     "text": [
      "<class 'pandas.core.frame.DataFrame'>\n",
      "RangeIndex: 5707 entries, 0 to 5706\n",
      "Data columns (total 21 columns):\n",
      " #   Column             Non-Null Count  Dtype  \n",
      "---  ------             --------------  -----  \n",
      " 0   X                  5707 non-null   float64\n",
      " 1   Y                  5707 non-null   float64\n",
      " 2   OBJECTID           5707 non-null   int64  \n",
      " 3   EVENT_UNIQUE_ID    5707 non-null   object \n",
      " 4   OCC_DATE           5707 non-null   object \n",
      " 5   OCC_YEAR           5707 non-null   int64  \n",
      " 6   OCC_MONTH          5707 non-null   object \n",
      " 7   OCC_DOW            5707 non-null   object \n",
      " 8   OCC_DOY            5707 non-null   int64  \n",
      " 9   OCC_DAY            5707 non-null   int64  \n",
      " 10  OCC_HOUR           5707 non-null   int64  \n",
      " 11  OCC_TIME_RANGE     5707 non-null   object \n",
      " 12  DIVISION           5707 non-null   object \n",
      " 13  DEATH              5707 non-null   int64  \n",
      " 14  INJURIES           5707 non-null   int64  \n",
      " 15  HOOD_158           5707 non-null   object \n",
      " 16  NEIGHBOURHOOD_158  5707 non-null   object \n",
      " 17  HOOD_140           5707 non-null   object \n",
      " 18  NEIGHBOURHOOD_140  5707 non-null   object \n",
      " 19  LONG_WGS84         5707 non-null   float64\n",
      " 20  LAT_WGS84          5707 non-null   float64\n",
      "dtypes: float64(4), int64(7), object(10)\n",
      "memory usage: 936.4+ KB\n"
     ]
    }
   ],
   "source": [
    "df = pd.read_csv(\"Data-Toronto-Police.csv\")\n",
    "df.info()"
   ]
  },
  {
   "cell_type": "code",
   "execution_count": 3,
   "metadata": {},
   "outputs": [
    {
     "data": {
      "text/plain": [
       "38"
      ]
     },
     "execution_count": 3,
     "metadata": {},
     "output_type": "execute_result"
    }
   ],
   "source": [
    "lat_unknown = df[df['LONG_WGS84'] < -85]\n",
    "# lat_unknown[['DEATH', 'INJURIES']]\n",
    "lat_unknown[lat_unknown['INJURIES'] == 1].count()[0]\n",
    "# Number of injuries in the unknown place events"
   ]
  },
  {
   "attachments": {},
   "cell_type": "markdown",
   "metadata": {},
   "source": [
    "Since there are only sixty events of unknown location, drop these"
   ]
  },
  {
   "cell_type": "code",
   "execution_count": 41,
   "metadata": {},
   "outputs": [
    {
     "name": "stdout",
     "output_type": "stream",
     "text": [
      "<class 'pandas.core.frame.DataFrame'>\n",
      "Int64Index: 5641 entries, 0 to 5706\n",
      "Data columns (total 21 columns):\n",
      " #   Column             Non-Null Count  Dtype  \n",
      "---  ------             --------------  -----  \n",
      " 0   X                  5641 non-null   float64\n",
      " 1   Y                  5641 non-null   float64\n",
      " 2   OBJECTID           5641 non-null   int64  \n",
      " 3   EVENT_UNIQUE_ID    5641 non-null   object \n",
      " 4   OCC_DATE           5641 non-null   object \n",
      " 5   OCC_YEAR           5641 non-null   int64  \n",
      " 6   OCC_MONTH          5641 non-null   object \n",
      " 7   OCC_DOW            5641 non-null   object \n",
      " 8   OCC_DOY            5641 non-null   int64  \n",
      " 9   OCC_DAY            5641 non-null   int64  \n",
      " 10  OCC_HOUR           5641 non-null   int64  \n",
      " 11  OCC_TIME_RANGE     5641 non-null   object \n",
      " 12  DIVISION           5641 non-null   object \n",
      " 13  DEATH              5641 non-null   int64  \n",
      " 14  INJURIES           5641 non-null   int64  \n",
      " 15  HOOD_158           5641 non-null   object \n",
      " 16  NEIGHBOURHOOD_158  5641 non-null   object \n",
      " 17  HOOD_140           5641 non-null   object \n",
      " 18  NEIGHBOURHOOD_140  5641 non-null   object \n",
      " 19  LONG_WGS84         5641 non-null   float64\n",
      " 20  LAT_WGS84          5641 non-null   float64\n",
      "dtypes: float64(4), int64(7), object(10)\n",
      "memory usage: 969.5+ KB\n",
      "yes\n",
      "NSA entries are eliminated\n"
     ]
    }
   ],
   "source": [
    "# df_noout = df[df['Y'] != 0.0]\n",
    "df_noout = df[~df.isin(['NSA'])].dropna()\n",
    "df_noout.info()\n",
    "if 'NSA' in df.values:\n",
    "    print(\"yes\")\n",
    "    if 'NSA' not in df_noout.values:\n",
    "        print(\"NSA entries are eliminated\")\n",
    "df_noout = df_noout.reset_index(drop=True)"
   ]
  },
  {
   "attachments": {},
   "cell_type": "markdown",
   "metadata": {},
   "source": [
    "Check the range of inputs, make sure the values are valid"
   ]
  },
  {
   "cell_type": "code",
   "execution_count": 5,
   "metadata": {},
   "outputs": [
    {
     "name": "stdout",
     "output_type": "stream",
     "text": [
      "hour min:  0  max:  23\n",
      "DOY min:  1  max:  366\n"
     ]
    }
   ],
   "source": [
    "print(\"hour min: \", df_noout['OCC_HOUR'].min(), \" max: \", df_noout['OCC_HOUR'].max())\n",
    "print(\"DOY min: \", df_noout['OCC_DOY'].min(), \" max: \", df_noout['OCC_DOY'].max())"
   ]
  },
  {
   "attachments": {},
   "cell_type": "markdown",
   "metadata": {},
   "source": [
    "To make suggestion to an insuarnce company, the dataset needs to be seperated by regions, put regions in a dictionary, and calculate each year's total event, death rate, and injure rate. Show them "
   ]
  },
  {
   "cell_type": "code",
   "execution_count": 6,
   "metadata": {},
   "outputs": [],
   "source": [
    "GROUPED_158 = df_noout.groupby('HOOD_158')\n",
    "GROUPED_140 = df_noout.groupby('HOOD_140')\n",
    "\n",
    "dict_158 = dict(list(GROUPED_158))\n",
    "dict_140 = dict(list(GROUPED_140))\n",
    "\n"
   ]
  },
  {
   "cell_type": "code",
   "execution_count": 7,
   "metadata": {},
   "outputs": [
    {
     "name": "stdout",
     "output_type": "stream",
     "text": [
      "[2004 2005 2006 2007 2008 2009 2010 2011 2012 2013 2014 2015 2016 2017\n",
      " 2018 2019 2020 2021 2022]\n"
     ]
    }
   ],
   "source": [
    "print(df['OCC_YEAR'].unique())"
   ]
  },
  {
   "attachments": {},
   "cell_type": "markdown",
   "metadata": {},
   "source": [
    "Find the event number, death rate, injure rate for each community for each year."
   ]
  },
  {
   "cell_type": "code",
   "execution_count": 8,
   "metadata": {},
   "outputs": [
    {
     "name": "stdout",
     "output_type": "stream",
     "text": [
      "X                    192\n",
      "Y                    192\n",
      "OBJECTID             192\n",
      "EVENT_UNIQUE_ID      192\n",
      "OCC_DATE             192\n",
      "OCC_YEAR             192\n",
      "OCC_MONTH            192\n",
      "OCC_DOW              192\n",
      "OCC_DOY              192\n",
      "OCC_DAY              192\n",
      "OCC_HOUR             192\n",
      "OCC_TIME_RANGE       192\n",
      "DIVISION             192\n",
      "DEATH                192\n",
      "INJURIES             192\n",
      "HOOD_158             192\n",
      "NEIGHBOURHOOD_158    192\n",
      "HOOD_140             192\n",
      "NEIGHBOURHOOD_140    192\n",
      "LONG_WGS84           192\n",
      "LAT_WGS84            192\n",
      "dtype: int64\n",
      "['137' '1' '24' '75' '132' '45' '131' '2' '85' 'NSA' '113' '124' '111'\n",
      " '72' '126' '136' '5' '118' '28' '117' '58' '76' '73' '120' '70' '27' '77'\n",
      " '84' '78' '43' '74' '134' '23' '50' '93' '107' '26' '83' '108' '25' '54'\n",
      " '16' '29' '30' '18' '14' '138' '17' '32' '8' '59' '130' '4' '128' '121'\n",
      " '89' '44' '110' '135' '40' '48' '104' '87' '13' '88' '31' '127' '139'\n",
      " '92' '91' '97' '61' '123' '57' '53' '90' '47' '109' '116' '21' '65' '122'\n",
      " '11' '71' '82' '7' '38' '66' '6' '81' '62' '22' '42' '12' '119' '98' '51'\n",
      " '125' '95' '69' '115' '36' '3' '55' '68' '80' '86' '19' '112' '20' '79'\n",
      " '64' '129' '106' '99' '60' '41' '49' '94' '9' '34' '52' '46' '35' '114'\n",
      " '33' '67' '15' '39' '96' '56' '63' '140' '100' '133' '105' '37' '10'\n",
      " '101' '102']\n"
     ]
    }
   ],
   "source": [
    "print(dict_158['2'].count())\n",
    "print(df['HOOD_140'].unique())"
   ]
  },
  {
   "cell_type": "code",
   "execution_count": 9,
   "metadata": {},
   "outputs": [],
   "source": [
    "# dictionary: keys are string of numbers, values are dataframes\n",
    "# event_count, death_rate and injury_rate: both dictionary of dictionary. death_rate[first][second], first is the hood number in string, second is\n",
    "#   number of year in string, value is a float or int.\n",
    "# dict<string, <string, int>> event_count, change the int to float for the other two dicts.\n",
    "\n",
    "def calc_rates(dictionary):\n",
    "    event_count = {}\n",
    "    death = 0\n",
    "    injury = 0\n",
    "    death_rate = {}\n",
    "    injury_rate = {}\n",
    "    for key in dictionary.keys():\n",
    "        # loop through dataframe of each hood\n",
    "        neighbor = dictionary[key] # dataframe\n",
    "        # initialize the looped dictionaries\n",
    "        event_count[key] = {}\n",
    "        death_rate[key] = {}\n",
    "        injury_rate[key] = {}\n",
    "        for i in range(2004, 2023):\n",
    "            # loop through years\n",
    "            event_count[key][i] = neighbor[neighbor['OCC_YEAR'] == i].count()[0]\n",
    "            death = neighbor[neighbor['OCC_YEAR'] == i]['DEATH'].sum()\n",
    "            injury = neighbor[neighbor['OCC_YEAR'] == i]['INJURIES'].sum()\n",
    "            # death = neighbor[(neighbor['DEATH'] == 1) & (neighbor['OCC_YEAR'] == str(i))].count()[0]\n",
    "            # injury = neighbor[(neighbor['INJURIES'] == 1) & (neighbor['OCC_YEAR'] == str(i))].count()[0]\n",
    "            if(event_count[key][i] == 0):\n",
    "                death_rate[key][i] = 0.0\n",
    "                injury_rate[key][i] = 0.0\n",
    "            else:\n",
    "                death_rate[key][i] = death/event_count[key][i]\n",
    "                injury_rate[key][i] = injury/event_count[key][i]\n",
    "    return event_count, death_rate, injury_rate\n",
    "        \n",
    "\n"
   ]
  },
  {
   "cell_type": "code",
   "execution_count": 10,
   "metadata": {},
   "outputs": [
    {
     "name": "stdout",
     "output_type": "stream",
     "text": [
      "8      0\n",
      "69     1\n",
      "108    0\n",
      "Name: INJURIES, dtype: int64\n"
     ]
    }
   ],
   "source": [
    "neighbor = dict_140['85']\n",
    "# print(neighbor['OCC_YEAR'] == 2004)\n",
    "print(neighbor[neighbor['OCC_YEAR'] == 2004]['INJURIES'])"
   ]
  },
  {
   "cell_type": "code",
   "execution_count": 11,
   "metadata": {},
   "outputs": [],
   "source": [
    "event_count_140, death_rate_140, injury_rate_140 = calc_rates(dict_140)"
   ]
  },
  {
   "cell_type": "code",
   "execution_count": 12,
   "metadata": {},
   "outputs": [],
   "source": [
    "event_count_158, death_rate_158, injury_rate_158 = calc_rates(dict_158)"
   ]
  },
  {
   "attachments": {},
   "cell_type": "markdown",
   "metadata": {},
   "source": [
    "Plot the "
   ]
  },
  {
   "cell_type": "code",
   "execution_count": 13,
   "metadata": {},
   "outputs": [
    {
     "name": "stdout",
     "output_type": "stream",
     "text": [
      "dict_keys([2004, 2005, 2006, 2007, 2008, 2009, 2010, 2011, 2012, 2013, 2014, 2015, 2016, 2017, 2018, 2019, 2020, 2021, 2022])\n"
     ]
    }
   ],
   "source": [
    "print(death_rate_140['85'].keys())"
   ]
  },
  {
   "cell_type": "code",
   "execution_count": 14,
   "metadata": {},
   "outputs": [],
   "source": [
    "total_event_per_hood_140 = {}\n",
    "for key in event_count_140.keys():\n",
    "    total_event_per_hood_140[key] = sum(event_count_140[key].values())\n",
    "\n",
    "total_event_per_hood_158 = {}\n",
    "for key in event_count_158.keys():\n",
    "    total_event_per_hood_158[key] = sum(event_count_158[key].values())\n"
   ]
  },
  {
   "cell_type": "code",
   "execution_count": 15,
   "metadata": {},
   "outputs": [
    {
     "data": {
      "text/plain": [
       "(2004.0, 2022.0)"
      ]
     },
     "execution_count": 15,
     "metadata": {},
     "output_type": "execute_result"
    },
    {
     "data": {
      "image/png": "[encoded data removed]",
      "text/plain": [
       "<Figure size 640x480 with 1 Axes>"
      ]
     },
     "metadata": {},
     "output_type": "display_data"
    }
   ],
   "source": [
    "sns.lineplot(x = death_rate_140['85'].keys(), y = death_rate_140['85'].values())\n",
    "plt.xlim(2004, 2022)"
   ]
  },
  {
   "cell_type": "code",
   "execution_count": 16,
   "metadata": {},
   "outputs": [],
   "source": [
    "from shapely.geometry import Point, Polygon"
   ]
  },
  {
   "cell_type": "code",
   "execution_count": 17,
   "metadata": {},
   "outputs": [],
   "source": [
    "# Polygon list\n",
    "def is_vertex_inside_polygon(polygon_list, vertex):\n",
    "    for i in range(len(polygon_list)):\n",
    "        polygon = Polygon(polygon_list[i])\n",
    "        point = Point(vertex)\n",
    "        if(polygon.contains(point)): return i\n",
    "        else: continue\n",
    "    \n",
    "    return -1\n",
    "\n",
    "# check if a vertex lies in a polygon\n",
    "# def is_vertex_inside_polygon(polygon_vertices, vertex):\n",
    "#     polygon = Polygon(polygon_vertices)\n",
    "#     point = Point(vertex)\n",
    "    \n",
    "#     return polygon.contains(point)"
   ]
  },
  {
   "cell_type": "code",
   "execution_count": 18,
   "metadata": {},
   "outputs": [
    {
     "name": "stdout",
     "output_type": "stream",
     "text": [
      "count    5645.000000\n",
      "mean       43.719096\n",
      "std         0.048916\n",
      "min        43.587343\n",
      "25%        43.678879\n",
      "50%        43.721362\n",
      "75%        43.755542\n",
      "max        43.838273\n",
      "Name: Y, dtype: float64\n"
     ]
    }
   ],
   "source": [
    "print(df_noout['Y'].describe())"
   ]
  },
  {
   "cell_type": "code",
   "execution_count": 19,
   "metadata": {},
   "outputs": [
    {
     "name": "stdout",
     "output_type": "stream",
     "text": [
      "<class 'pandas.core.frame.DataFrame'>\n",
      "RangeIndex: 6 entries, 0 to 5\n",
      "Data columns (total 11 columns):\n",
      " #   Column           Non-Null Count  Dtype  \n",
      "---  ------           --------------  -----  \n",
      " 0   _id              6 non-null      int64  \n",
      " 1   AREA_ID          6 non-null      int64  \n",
      " 2   DATE_EFFECTIVE   0 non-null      float64\n",
      " 3   AREA_ATTR_ID     6 non-null      int64  \n",
      " 4   PARENT_AREA_ID   6 non-null      int64  \n",
      " 5   AREA_SHORT_CODE  6 non-null      int64  \n",
      " 6   AREA_LONG_CODE   6 non-null      int64  \n",
      " 7   AREA_NAME        6 non-null      object \n",
      " 8   AREA_DESC        6 non-null      object \n",
      " 9   OBJECTID         6 non-null      int64  \n",
      " 10  geometry         6 non-null      object \n",
      "dtypes: float64(1), int64(7), object(3)\n",
      "memory usage: 656.0+ bytes\n"
     ]
    }
   ],
   "source": [
    "geo = pd.read_csv('Former Municipality Boundaries Data.csv')\n",
    "geo.info()"
   ]
  },
  {
   "cell_type": "code",
   "execution_count": 20,
   "metadata": {},
   "outputs": [],
   "source": [
    "import json"
   ]
  },
  {
   "cell_type": "code",
   "execution_count": 21,
   "metadata": {},
   "outputs": [
    {
     "name": "stdout",
     "output_type": "stream",
     "text": [
      "We have  6  region-polygons in total.\n"
     ]
    }
   ],
   "source": [
    "polygons = []\n",
    "for i in range(0, 6):\n",
    "    geo0 = geo['geometry'][i]\n",
    "    js_string = json.dumps(geo0)\n",
    "    parsed_object = json.loads(js_string)\n",
    "    js_dict = eval(parsed_object)\n",
    "    a = np.array(js_dict['coordinates'])\n",
    "    polygon_vertices = a[0][0]\n",
    "    polygons.append(polygon_vertices)\n",
    "print(\"We have \", len(polygons), \" region-polygons in total.\")\n"
   ]
  },
  {
   "cell_type": "code",
   "execution_count": 22,
   "metadata": {},
   "outputs": [],
   "source": [
    "# geo0 = geo['geometry'][0]"
   ]
  },
  {
   "cell_type": "code",
   "execution_count": 23,
   "metadata": {},
   "outputs": [],
   "source": [
    "# js_string = json.dumps(geo0)\n",
    "# parsed_object = json.loads(js_string)\n"
   ]
  },
  {
   "cell_type": "code",
   "execution_count": 24,
   "metadata": {},
   "outputs": [],
   "source": [
    "# print(parsed_object)"
   ]
  },
  {
   "cell_type": "code",
   "execution_count": 25,
   "metadata": {},
   "outputs": [],
   "source": [
    "# js_dict = eval(parsed_object)\n",
    "# a = np.array(js_dict['coordinates'])\n",
    "# print(a.shape)\n",
    "# polygon_vertices = a[0][0]\n",
    "# # vertices = parsed_object[\"coordinates\"]\n",
    "# print(polygon_vertices.shape)"
   ]
  },
  {
   "cell_type": "code",
   "execution_count": 43,
   "metadata": {},
   "outputs": [
    {
     "data": {
      "text/plain": [
       "43.76258324"
      ]
     },
     "execution_count": 43,
     "metadata": {},
     "output_type": "execute_result"
    }
   ],
   "source": [
    "\n",
    "df_noout['Y'][9]"
   ]
  },
  {
   "cell_type": "code",
   "execution_count": 44,
   "metadata": {},
   "outputs": [
    {
     "name": "stdout",
     "output_type": "stream",
     "text": [
      "5641\n"
     ]
    }
   ],
   "source": [
    "hood_vertices = []\n",
    "for i in range(0, len(df_noout['X'])):\n",
    "    hood_vertices.append([df_noout['X'][i], df_noout['Y'][i]])\n",
    "print(len(hood_vertices))"
   ]
  },
  {
   "cell_type": "code",
   "execution_count": 45,
   "metadata": {},
   "outputs": [
    {
     "name": "stdout",
     "output_type": "stream",
     "text": [
      "[-79.23495526, 43.78152799]\n"
     ]
    }
   ],
   "source": [
    "print(hood_vertices[0])"
   ]
  },
  {
   "cell_type": "code",
   "execution_count": 46,
   "metadata": {},
   "outputs": [
    {
     "name": "stdout",
     "output_type": "stream",
     "text": [
      "[3, 4, 1, 5, 3, 1, 3, 4, 5, 1, 4, 0, 3, 0, 5, 3, 3, 4, 0, 5]\n"
     ]
    }
   ],
   "source": [
    "category = []\n",
    "for i in range(0, len(hood_vertices)):\n",
    "    category.append(is_vertex_inside_polygon(polygons, hood_vertices[i])) \n",
    "print(category[:20])"
   ]
  },
  {
   "cell_type": "code",
   "execution_count": 50,
   "metadata": {},
   "outputs": [],
   "source": [
    "df_noout['Region'] = category\n",
    "df_noout.to_csv('output.csv', index=False)"
   ]
  }
 ],
 "metadata": {
  "kernelspec": {
   "display_name": "base",
   "language": "python",
   "name": "python3"
  },
  "language_info": {
   "codemirror_mode": {
    "name": "ipython",
    "version": 3
   },
   "file_extension": ".py",
   "mimetype": "text/x-python",
   "name": "python",
   "nbconvert_exporter": "python",
   "pygments_lexer": "ipython3",
   "version": "3.10.9"
  },
  "orig_nbformat": 4
 },
 "nbformat": 4,
 "nbformat_minor": 2
}
