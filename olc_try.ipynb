{
 "cells": [
  {
   "cell_type": "code",
   "execution_count": 1,
   "metadata": {},
   "outputs": [],
   "source": [
    "import seaborn as sns\n",
    "import pandas as pd\n",
    "import numpy as np\n",
    "import matplotlib.pyplot as plt\n",
    "%matplotlib inline\n",
    "from statsmodels.formula.api import ols\n",
    "import statsmodels.api as sm\n",
    "\n",
    "from sklearn.model_selection import train_test_split\n",
    "from sklearn.pipeline import Pipeline\n",
    "from sklearn.compose import ColumnTransformer\n",
    "from sklearn.preprocessing import OneHotEncoder, MinMaxScaler\n",
    "from sklearn.linear_model import LinearRegression, ElasticNet, Ridge, Lasso\n",
    "from sklearn.metrics import mean_squared_error, r2_score"
   ]
  },
  {
   "cell_type": "code",
   "execution_count": 2,
   "metadata": {},
   "outputs": [],
   "source": [
    "df = pd.read_csv('CrimeDatabase_Extended.csv')"
   ]
  },
  {
   "cell_type": "code",
   "execution_count": 3,
   "metadata": {},
   "outputs": [
    {
     "name": "stdout",
     "output_type": "stream",
     "text": [
      "<class 'pandas.core.frame.DataFrame'>\n",
      "RangeIndex: 5641 entries, 0 to 5640\n",
      "Data columns (total 38 columns):\n",
      " #   Column              Non-Null Count  Dtype  \n",
      "---  ------              --------------  -----  \n",
      " 0   X                   5641 non-null   float64\n",
      " 1   Y                   5641 non-null   float64\n",
      " 2   OBJECTID            5641 non-null   int64  \n",
      " 3   EVENT_UNIQUE_ID     5641 non-null   object \n",
      " 4   OCC_DATE            5641 non-null   object \n",
      " 5   OCC_YEAR            5641 non-null   int64  \n",
      " 6   OCC_MONTH           5641 non-null   object \n",
      " 7   OCC_DOW             5641 non-null   object \n",
      " 8   OCC_DOY             5641 non-null   int64  \n",
      " 9   OCC_DAY             5641 non-null   int64  \n",
      " 10  OCC_HOUR            5641 non-null   int64  \n",
      " 11  OCC_TIME_RANGE      5641 non-null   object \n",
      " 12  DIVISION            5641 non-null   object \n",
      " 13  DEATH               5641 non-null   int64  \n",
      " 14  INJURIES            5641 non-null   int64  \n",
      " 15  HOOD_158            5641 non-null   int64  \n",
      " 16  NEIGHBOURHOOD_158   5641 non-null   object \n",
      " 17  HOOD_140            5641 non-null   int64  \n",
      " 18  NEIGHBOURHOOD_140   5641 non-null   object \n",
      " 19  LONG_WGS84          5641 non-null   float64\n",
      " 20  LAT_WGS84           5641 non-null   float64\n",
      " 21  Region              5641 non-null   int64  \n",
      " 22  REGION_ID           5641 non-null   int64  \n",
      " 23  REGION              5641 non-null   object \n",
      " 24  POPULATION          5641 non-null   int64  \n",
      " 25  POPDENSITY          5641 non-null   int64  \n",
      " 26  POPYOUTH1524        5641 non-null   object \n",
      " 27  POPSENIOR           5641 non-null   object \n",
      " 28  POPMALE1529         5641 non-null   object \n",
      " 29  HIGHRISE            5641 non-null   object \n",
      " 30  SOCIOLONELY         5641 non-null   object \n",
      " 31  LOW_INCOME          5641 non-null   object \n",
      " 32  UNAFFORDABLE_HOUSE  5641 non-null   object \n",
      " 33  INADEQUATE_HOUSE    5641 non-null   object \n",
      " 34  UNSUITABLE_HOUSE    5641 non-null   object \n",
      " 35  DROPOUT             5641 non-null   object \n",
      " 36  UNEMPLOYMENT        5641 non-null   object \n",
      " 37  MALE_UNEMPLOYMENT   5641 non-null   object \n",
      "dtypes: float64(4), int64(13), object(21)\n",
      "memory usage: 1.6+ MB\n"
     ]
    }
   ],
   "source": [
    "df.info()"
   ]
  },
  {
   "cell_type": "code",
   "execution_count": 4,
   "metadata": {},
   "outputs": [],
   "source": [
    "df['datetime'] = pd.to_datetime(df['OCC_DATE'])"
   ]
  },
  {
   "cell_type": "code",
   "execution_count": 5,
   "metadata": {},
   "outputs": [],
   "source": [
    "df['month'] = df['datetime'].dt.month"
   ]
  },
  {
   "cell_type": "code",
   "execution_count": 6,
   "metadata": {},
   "outputs": [
    {
     "data": {
      "text/html": [
       "<div>\n",
       "<style scoped>\n",
       "    .dataframe tbody tr th:only-of-type {\n",
       "        vertical-align: middle;\n",
       "    }\n",
       "\n",
       "    .dataframe tbody tr th {\n",
       "        vertical-align: top;\n",
       "    }\n",
       "\n",
       "    .dataframe thead th {\n",
       "        text-align: right;\n",
       "    }\n",
       "</style>\n",
       "<table border=\"1\" class=\"dataframe\">\n",
       "  <thead>\n",
       "    <tr style=\"text-align: right;\">\n",
       "      <th></th>\n",
       "      <th>X</th>\n",
       "      <th>Y</th>\n",
       "      <th>OBJECTID</th>\n",
       "      <th>EVENT_UNIQUE_ID</th>\n",
       "      <th>OCC_DATE</th>\n",
       "      <th>OCC_YEAR</th>\n",
       "      <th>OCC_MONTH</th>\n",
       "      <th>OCC_DOW</th>\n",
       "      <th>OCC_DOY</th>\n",
       "      <th>OCC_DAY</th>\n",
       "      <th>...</th>\n",
       "      <th>SOCIOLONELY</th>\n",
       "      <th>LOW_INCOME</th>\n",
       "      <th>UNAFFORDABLE_HOUSE</th>\n",
       "      <th>INADEQUATE_HOUSE</th>\n",
       "      <th>UNSUITABLE_HOUSE</th>\n",
       "      <th>DROPOUT</th>\n",
       "      <th>UNEMPLOYMENT</th>\n",
       "      <th>MALE_UNEMPLOYMENT</th>\n",
       "      <th>datetime</th>\n",
       "      <th>month</th>\n",
       "    </tr>\n",
       "  </thead>\n",
       "  <tbody>\n",
       "    <tr>\n",
       "      <th>0</th>\n",
       "      <td>-79.234955</td>\n",
       "      <td>43.781528</td>\n",
       "      <td>1</td>\n",
       "      <td>GO-2004397105</td>\n",
       "      <td>2004/05/15 04:00:00+00</td>\n",
       "      <td>2004</td>\n",
       "      <td>May</td>\n",
       "      <td>Saturday</td>\n",
       "      <td>136</td>\n",
       "      <td>15</td>\n",
       "      <td>...</td>\n",
       "      <td>9.70%</td>\n",
       "      <td>27.20%</td>\n",
       "      <td>35.90%</td>\n",
       "      <td>7.80%</td>\n",
       "      <td>19.20%</td>\n",
       "      <td>20.39%</td>\n",
       "      <td>10.60%</td>\n",
       "      <td>9.80%</td>\n",
       "      <td>2004-05-15 04:00:00+00:00</td>\n",
       "      <td>5</td>\n",
       "    </tr>\n",
       "    <tr>\n",
       "      <th>1</th>\n",
       "      <td>-79.618218</td>\n",
       "      <td>43.733547</td>\n",
       "      <td>2</td>\n",
       "      <td>GO-2004600109</td>\n",
       "      <td>2004/07/26 04:00:00+00</td>\n",
       "      <td>2004</td>\n",
       "      <td>July</td>\n",
       "      <td>Monday</td>\n",
       "      <td>208</td>\n",
       "      <td>26</td>\n",
       "      <td>...</td>\n",
       "      <td>6.50%</td>\n",
       "      <td>15.80%</td>\n",
       "      <td>31.70%</td>\n",
       "      <td>4.70%</td>\n",
       "      <td>17.40%</td>\n",
       "      <td>21.21%</td>\n",
       "      <td>9.60%</td>\n",
       "      <td>9.20%</td>\n",
       "      <td>2004-07-26 04:00:00+00:00</td>\n",
       "      <td>7</td>\n",
       "    </tr>\n",
       "    <tr>\n",
       "      <th>2</th>\n",
       "      <td>-79.518759</td>\n",
       "      <td>43.769157</td>\n",
       "      <td>3</td>\n",
       "      <td>GO-2004311851</td>\n",
       "      <td>2004/05/14 04:00:00+00</td>\n",
       "      <td>2004</td>\n",
       "      <td>May</td>\n",
       "      <td>Friday</td>\n",
       "      <td>135</td>\n",
       "      <td>14</td>\n",
       "      <td>...</td>\n",
       "      <td>9.80%</td>\n",
       "      <td>33.00%</td>\n",
       "      <td>36.70%</td>\n",
       "      <td>13.60%</td>\n",
       "      <td>26.60%</td>\n",
       "      <td>37.84%</td>\n",
       "      <td>12.70%</td>\n",
       "      <td>11.30%</td>\n",
       "      <td>2004-05-14 04:00:00+00:00</td>\n",
       "      <td>5</td>\n",
       "    </tr>\n",
       "    <tr>\n",
       "      <th>3</th>\n",
       "      <td>-79.378870</td>\n",
       "      <td>43.660665</td>\n",
       "      <td>4</td>\n",
       "      <td>GO-2004736004</td>\n",
       "      <td>2004/12/19 05:00:00+00</td>\n",
       "      <td>2004</td>\n",
       "      <td>December</td>\n",
       "      <td>Sunday</td>\n",
       "      <td>354</td>\n",
       "      <td>19</td>\n",
       "      <td>...</td>\n",
       "      <td>39.20%</td>\n",
       "      <td>26.00%</td>\n",
       "      <td>45.10%</td>\n",
       "      <td>5.30%</td>\n",
       "      <td>8.70%</td>\n",
       "      <td>4.19%</td>\n",
       "      <td>8.50%</td>\n",
       "      <td>7.90%</td>\n",
       "      <td>2004-12-19 05:00:00+00:00</td>\n",
       "      <td>12</td>\n",
       "    </tr>\n",
       "    <tr>\n",
       "      <th>4</th>\n",
       "      <td>-79.212435</td>\n",
       "      <td>43.812075</td>\n",
       "      <td>5</td>\n",
       "      <td>GO-2004303455</td>\n",
       "      <td>2004/04/12 04:00:00+00</td>\n",
       "      <td>2004</td>\n",
       "      <td>April</td>\n",
       "      <td>Monday</td>\n",
       "      <td>103</td>\n",
       "      <td>12</td>\n",
       "      <td>...</td>\n",
       "      <td>5.90%</td>\n",
       "      <td>20.40%</td>\n",
       "      <td>35.70%</td>\n",
       "      <td>6.90%</td>\n",
       "      <td>17.30%</td>\n",
       "      <td>20.47%</td>\n",
       "      <td>10.50%</td>\n",
       "      <td>10.60%</td>\n",
       "      <td>2004-04-12 04:00:00+00:00</td>\n",
       "      <td>4</td>\n",
       "    </tr>\n",
       "  </tbody>\n",
       "</table>\n",
       "<p>5 rows × 40 columns</p>\n",
       "</div>"
      ],
      "text/plain": [
       "           X          Y  OBJECTID EVENT_UNIQUE_ID                OCC_DATE  \\\n",
       "0 -79.234955  43.781528         1   GO-2004397105  2004/05/15 04:00:00+00   \n",
       "1 -79.618218  43.733547         2   GO-2004600109  2004/07/26 04:00:00+00   \n",
       "2 -79.518759  43.769157         3   GO-2004311851  2004/05/14 04:00:00+00   \n",
       "3 -79.378870  43.660665         4   GO-2004736004  2004/12/19 05:00:00+00   \n",
       "4 -79.212435  43.812075         5   GO-2004303455  2004/04/12 04:00:00+00   \n",
       "\n",
       "   OCC_YEAR OCC_MONTH   OCC_DOW  OCC_DOY  OCC_DAY  ...  SOCIOLONELY  \\\n",
       "0      2004       May  Saturday      136       15  ...        9.70%   \n",
       "1      2004      July    Monday      208       26  ...        6.50%   \n",
       "2      2004       May    Friday      135       14  ...        9.80%   \n",
       "3      2004  December    Sunday      354       19  ...       39.20%   \n",
       "4      2004     April    Monday      103       12  ...        5.90%   \n",
       "\n",
       "  LOW_INCOME UNAFFORDABLE_HOUSE  INADEQUATE_HOUSE  UNSUITABLE_HOUSE  DROPOUT  \\\n",
       "0     27.20%             35.90%             7.80%            19.20%   20.39%   \n",
       "1     15.80%             31.70%             4.70%            17.40%   21.21%   \n",
       "2     33.00%             36.70%            13.60%            26.60%   37.84%   \n",
       "3     26.00%             45.10%             5.30%             8.70%    4.19%   \n",
       "4     20.40%             35.70%             6.90%            17.30%   20.47%   \n",
       "\n",
       "  UNEMPLOYMENT  MALE_UNEMPLOYMENT                  datetime  month  \n",
       "0       10.60%              9.80% 2004-05-15 04:00:00+00:00      5  \n",
       "1        9.60%              9.20% 2004-07-26 04:00:00+00:00      7  \n",
       "2       12.70%             11.30% 2004-05-14 04:00:00+00:00      5  \n",
       "3        8.50%              7.90% 2004-12-19 05:00:00+00:00     12  \n",
       "4       10.50%             10.60% 2004-04-12 04:00:00+00:00      4  \n",
       "\n",
       "[5 rows x 40 columns]"
      ]
     },
     "execution_count": 6,
     "metadata": {},
     "output_type": "execute_result"
    }
   ],
   "source": [
    "df.head()"
   ]
  },
  {
   "cell_type": "code",
   "execution_count": 7,
   "metadata": {},
   "outputs": [
    {
     "name": "stdout",
     "output_type": "stream",
     "text": [
      "      HOOD_140  OCC_MONTH  month  POPULATION  POPDENSITY POPYOUTH1524  \\\n",
      "0            1      April      4       33312        1117       16.35%   \n",
      "1            1     August      8       33312        1117       16.35%   \n",
      "2            1   December     12       33312        1117       16.35%   \n",
      "3            1   February      2       33312        1117       16.35%   \n",
      "4            1    January      1       33312        1117       16.35%   \n",
      "...        ...        ...    ...         ...         ...          ...   \n",
      "1241       140   December     12        9917        2673       10.74%   \n",
      "1242       140       June      6        9917        2673       10.74%   \n",
      "1243       140      March      3        9917        2673       10.74%   \n",
      "1244       140        May      5        9917        2673       10.74%   \n",
      "1245       140  September      9        9917        2673       10.74%   \n",
      "\n",
      "     POPSENIOR POPMALE1529 HIGHRISE SOCIOLONELY LOW_INCOME UNAFFORDABLE_HOUSE  \\\n",
      "0       14.95%      13.06%   22.01%       6.50%     15.80%             31.70%   \n",
      "1       14.95%      13.06%   22.01%       6.50%     15.80%             31.70%   \n",
      "2       14.95%      13.06%   22.01%       6.50%     15.80%             31.70%   \n",
      "3       14.95%      13.06%   22.01%       6.50%     15.80%             31.70%   \n",
      "4       14.95%      13.06%   22.01%       6.50%     15.80%             31.70%   \n",
      "...        ...         ...      ...         ...        ...                ...   \n",
      "1241    26.57%       7.92%   27.32%      13.40%      7.70%             23.80%   \n",
      "1242    26.57%       7.92%   27.32%      13.40%      7.70%             23.80%   \n",
      "1243    26.57%       7.92%   27.32%      13.40%      7.70%             23.80%   \n",
      "1244    26.57%       7.92%   27.32%      13.40%      7.70%             23.80%   \n",
      "1245    26.57%       7.92%   27.32%      13.40%      7.70%             23.80%   \n",
      "\n",
      "     INADEQUATE_HOUSE UNSUITABLE_HOUSE DROPOUT UNEMPLOYMENT MALE_UNEMPLOYMENT  \\\n",
      "0               4.70%           17.40%  21.21%        9.60%             9.20%   \n",
      "1               4.70%           17.40%  21.21%        9.60%             9.20%   \n",
      "2               4.70%           17.40%  21.21%        9.60%             9.20%   \n",
      "3               4.70%           17.40%  21.21%        9.60%             9.20%   \n",
      "4               4.70%           17.40%  21.21%        9.60%             9.20%   \n",
      "...               ...              ...     ...          ...               ...   \n",
      "1241            3.80%            3.90%  12.91%        7.90%             7.40%   \n",
      "1242            3.80%            3.90%  12.91%        7.90%             7.40%   \n",
      "1243            3.80%            3.90%  12.91%        7.90%             7.40%   \n",
      "1244            3.80%            3.90%  12.91%        7.90%             7.40%   \n",
      "1245            3.80%            3.90%  12.91%        7.90%             7.40%   \n",
      "\n",
      "      count  \n",
      "0        13  \n",
      "1        13  \n",
      "2         7  \n",
      "3         7  \n",
      "4        12  \n",
      "...     ...  \n",
      "1241      1  \n",
      "1242      1  \n",
      "1243      1  \n",
      "1244      2  \n",
      "1245      1  \n",
      "\n",
      "[1246 rows x 18 columns]\n"
     ]
    }
   ],
   "source": [
    "features = ['month', 'POPULATION', 'POPDENSITY', 'POPYOUTH1524', 'POPSENIOR', 'POPMALE1529', 'HIGHRISE', 'SOCIOLONELY', 'LOW_INCOME', 'UNAFFORDABLE_HOUSE', 'INADEQUATE_HOUSE', 'UNSUITABLE_HOUSE', \n",
    "            'DROPOUT', 'UNEMPLOYMENT', 'MALE_UNEMPLOYMENT']\n",
    "# POPULATION\tPOPDENSITY\tPOPYOUTH1524\tPOPSENIOR\tPOPMALE1529\tHIGHRISE\tSOCIOLONELY\tLOW_INCOME\tUNAFFORDABLE_HOUSE\tINADEQUATE_HOUSE\tUNSUITABLE_HOUSE\tDROPOUT\tUNEMPLOYMENT\tMALE_UNEMPLOYMENT\n",
    "\n",
    "\n",
    "grouped_df = df.groupby(['HOOD_140', 'OCC_MONTH'])[features].min()\n",
    "\n",
    "# Reset the index to have the grouped columns as separate columns\n",
    "grouped_df = grouped_df.reset_index()\n",
    "\n",
    "# Add a new column 'count' representing the number of rows in the original dataset for each group\n",
    "grouped_df['count'] = df.groupby(['HOOD_140', 'OCC_MONTH']).size().reset_index(name='count')['count']\n",
    "\n",
    "# Display the resulting DataFrame\n",
    "print(grouped_df)"
   ]
  },
  {
   "cell_type": "code",
   "execution_count": 8,
   "metadata": {},
   "outputs": [
    {
     "name": "stdout",
     "output_type": "stream",
     "text": [
      "    index  HOOD_140  OCC_MONTH  month  POPULATION  POPDENSITY POPYOUTH1524  \\\n",
      "0       4         1    January      1       33312        1117       16.35%   \n",
      "1       3         1   February      2       33312        1117       16.35%   \n",
      "2       7         1      March      3       33312        1117       16.35%   \n",
      "3       0         1      April      4       33312        1117       16.35%   \n",
      "4       8         1        May      5       33312        1117       16.35%   \n",
      "5       6         1       June      6       33312        1117       16.35%   \n",
      "6       5         1       July      7       33312        1117       16.35%   \n",
      "7       1         1     August      8       33312        1117       16.35%   \n",
      "8      11         1  September      9       33312        1117       16.35%   \n",
      "9      10         1    October     10       33312        1117       16.35%   \n",
      "10      9         1   November     11       33312        1117       16.35%   \n",
      "11      2         1   December     12       33312        1117       16.35%   \n",
      "\n",
      "   POPSENIOR POPMALE1529 HIGHRISE SOCIOLONELY LOW_INCOME UNAFFORDABLE_HOUSE  \\\n",
      "0     14.95%      13.06%   22.01%       6.50%     15.80%             31.70%   \n",
      "1     14.95%      13.06%   22.01%       6.50%     15.80%             31.70%   \n",
      "2     14.95%      13.06%   22.01%       6.50%     15.80%             31.70%   \n",
      "3     14.95%      13.06%   22.01%       6.50%     15.80%             31.70%   \n",
      "4     14.95%      13.06%   22.01%       6.50%     15.80%             31.70%   \n",
      "5     14.95%      13.06%   22.01%       6.50%     15.80%             31.70%   \n",
      "6     14.95%      13.06%   22.01%       6.50%     15.80%             31.70%   \n",
      "7     14.95%      13.06%   22.01%       6.50%     15.80%             31.70%   \n",
      "8     14.95%      13.06%   22.01%       6.50%     15.80%             31.70%   \n",
      "9     14.95%      13.06%   22.01%       6.50%     15.80%             31.70%   \n",
      "10    14.95%      13.06%   22.01%       6.50%     15.80%             31.70%   \n",
      "11    14.95%      13.06%   22.01%       6.50%     15.80%             31.70%   \n",
      "\n",
      "   INADEQUATE_HOUSE UNSUITABLE_HOUSE DROPOUT UNEMPLOYMENT MALE_UNEMPLOYMENT  \\\n",
      "0             4.70%           17.40%  21.21%        9.60%             9.20%   \n",
      "1             4.70%           17.40%  21.21%        9.60%             9.20%   \n",
      "2             4.70%           17.40%  21.21%        9.60%             9.20%   \n",
      "3             4.70%           17.40%  21.21%        9.60%             9.20%   \n",
      "4             4.70%           17.40%  21.21%        9.60%             9.20%   \n",
      "5             4.70%           17.40%  21.21%        9.60%             9.20%   \n",
      "6             4.70%           17.40%  21.21%        9.60%             9.20%   \n",
      "7             4.70%           17.40%  21.21%        9.60%             9.20%   \n",
      "8             4.70%           17.40%  21.21%        9.60%             9.20%   \n",
      "9             4.70%           17.40%  21.21%        9.60%             9.20%   \n",
      "10            4.70%           17.40%  21.21%        9.60%             9.20%   \n",
      "11            4.70%           17.40%  21.21%        9.60%             9.20%   \n",
      "\n",
      "    count  \n",
      "0      12  \n",
      "1       7  \n",
      "2       5  \n",
      "3      13  \n",
      "4      14  \n",
      "5       9  \n",
      "6      18  \n",
      "7      13  \n",
      "8      16  \n",
      "9       8  \n",
      "10     10  \n",
      "11      7  \n"
     ]
    }
   ],
   "source": [
    "month_order = ['January', 'February', 'March', 'April', 'May', 'June', 'July', 'August', 'September', 'October', 'November', 'December']\n",
    "grouped_df['OCC_MONTH'] = pd.Categorical(grouped_df['OCC_MONTH'], categories=month_order, ordered=True)\n",
    "\n",
    "grouped_df = grouped_df.sort_values(by=['HOOD_140', 'OCC_MONTH'])\n",
    "grouped_df.reset_index(inplace=True)\n",
    "# grouped_df = grouped_df.drop('index', axis = 1)\n",
    "\n",
    "# print(grouped_df[grouped_df['HOOD_140'] == 1])\n",
    "print(grouped_df[grouped_df['HOOD_140'] == 1])"
   ]
  },
  {
   "cell_type": "markdown",
   "metadata": {},
   "source": [
    "Add a new column called crime rate by thousand percent"
   ]
  },
  {
   "cell_type": "code",
   "execution_count": 9,
   "metadata": {},
   "outputs": [],
   "source": [
    "grouped_df['crime_rate'] = grouped_df['count'] / grouped_df['POPULATION'] * 1000"
   ]
  },
  {
   "cell_type": "code",
   "execution_count": 10,
   "metadata": {},
   "outputs": [
    {
     "data": {
      "text/plain": [
       "<Axes: xlabel='crime_rate', ylabel='Count'>"
      ]
     },
     "execution_count": 10,
     "metadata": {},
     "output_type": "execute_result"
    },
    {
     "data": {
      "image/png": "[encoded data removed]",
      "text/plain": [
       "<Figure size 640x480 with 1 Axes>"
      ]
     },
     "metadata": {},
     "output_type": "display_data"
    }
   ],
   "source": [
    "sns.histplot(grouped_df['crime_rate'])"
   ]
  },
  {
   "cell_type": "code",
   "execution_count": 11,
   "metadata": {},
   "outputs": [
    {
     "name": "stdout",
     "output_type": "stream",
     "text": [
      "index                    int64\n",
      "HOOD_140                 int64\n",
      "OCC_MONTH             category\n",
      "month                    int64\n",
      "POPULATION               int64\n",
      "POPDENSITY               int64\n",
      "POPYOUTH1524           float64\n",
      "POPSENIOR              float64\n",
      "POPMALE1529            float64\n",
      "HIGHRISE               float64\n",
      "SOCIOLONELY            float64\n",
      "LOW_INCOME             float64\n",
      "UNAFFORDABLE_HOUSE     float64\n",
      "INADEQUATE_HOUSE       float64\n",
      "UNSUITABLE_HOUSE       float64\n",
      "DROPOUT                float64\n",
      "UNEMPLOYMENT           float64\n",
      "MALE_UNEMPLOYMENT      float64\n",
      "count                    int64\n",
      "crime_rate             float64\n",
      "dtype: object\n"
     ]
    }
   ],
   "source": [
    "column_data_types = {\n",
    "   'POPYOUTH1524' : 'float64'  ,\n",
    "   'POPSENIOR' : 'float64' ,\n",
    "   'POPMALE1529' : 'float64' ,\n",
    "   'HIGHRISE' : 'float64' ,\n",
    "   'SOCIOLONELY' : 'float64' ,\n",
    "   'LOW_INCOME' : 'float64' ,\n",
    "   'UNAFFORDABLE_HOUSE' : 'float64' ,\n",
    "   'INADEQUATE_HOUSE' : 'float64' ,\n",
    "   'UNSUITABLE_HOUSE' : 'float64' ,\n",
    "   'DROPOUT' : 'float64' ,\n",
    "   'UNEMPLOYMENT' : 'float64' ,\n",
    "   'MALE_UNEMPLOYMENT' : 'float64'\n",
    "}\n",
    "\n",
    "for key in column_data_types.keys():\n",
    "    grouped_df[key] = grouped_df[key].str.strip('%')\n",
    "    grouped_df[key] = pd.to_numeric(grouped_df[key])\n",
    "\n",
    "# grouped_df[column_data_types.keys()] = pd.to_numeric(grouped_df[column_data_types.keys()])\n",
    "\n",
    "# Change the data type of the columns using astype()\n",
    "# grouped_df = grouped_df.astype(column_data_types)\n",
    "print(grouped_df.dtypes)"
   ]
  },
  {
   "cell_type": "code",
   "execution_count": 25,
   "metadata": {},
   "outputs": [],
   "source": [
    "hoods = grouped_df['HOOD_140'].unique()\n",
    "df_hoods = grouped_df\n",
    "hood_crime_rate = {}\n",
    "# fill the dictionary with hood number and crime rates\n",
    "for i in hoods:\n",
    "    hood_crime_rate[i] = np.sum(df_hoods[df_hoods['HOOD_140'] == i]['crime_rate'])\n",
    "\n",
    "df_hoods['hood_crime_rate'] = df_hoods['HOOD_140'].map(hood_crime_rate)\n",
    "# now we have the total crime rate of hood_140"
   ]
  },
  {
   "cell_type": "code",
   "execution_count": 26,
   "metadata": {},
   "outputs": [
    {
     "data": {
      "text/plain": [
       "<seaborn.axisgrid.FacetGrid at 0x2b738104490>"
      ]
     },
     "execution_count": 26,
     "metadata": {},
     "output_type": "execute_result"
    },
    {
     "data": {
      "image/png": "[encoded data removed]",
      "text/plain": [
       "<Figure size 500x500 with 1 Axes>"
      ]
     },
     "metadata": {},
     "output_type": "display_data"
    }
   ],
   "source": [
    "# plot crime rate to DROPOUT\n",
    "sns.lmplot(x = 'hood_crime_rate', y = 'DROPOUT', data = df_hoods)"
   ]
  },
  {
   "cell_type": "code",
   "execution_count": 89,
   "metadata": {},
   "outputs": [
    {
     "name": "stdout",
     "output_type": "stream",
     "text": [
      "                            OLS Regression Results                            \n",
      "==============================================================================\n",
      "Dep. Variable:             crime_rate   R-squared:                       0.504\n",
      "Model:                            OLS   Adj. R-squared:                  0.494\n",
      "Method:                 Least Squares   F-statistic:                     49.63\n",
      "Date:                Fri, 21 Jul 2023   Prob (F-statistic):          4.50e-166\n",
      "Time:                        16:35:40   Log-Likelihood:                 620.50\n",
      "No. Observations:                1246   AIC:                            -1189.\n",
      "Df Residuals:                    1220   BIC:                            -1056.\n",
      "Df Model:                          25                                         \n",
      "Covariance Type:            nonrobust                                         \n",
      "==========================================================================================\n",
      "                             coef    std err          t      P>|t|      [0.025      0.975]\n",
      "------------------------------------------------------------------------------------------\n",
      "Intercept                 -0.0966      0.061     -1.572      0.116      -0.217       0.024\n",
      "OCC_MONTH[T.February]     -0.0436      0.021     -2.093      0.037      -0.085      -0.003\n",
      "OCC_MONTH[T.March]        -0.0102      0.021     -0.494      0.622      -0.051       0.030\n",
      "OCC_MONTH[T.April]        -0.0024      0.021     -0.117      0.907      -0.043       0.038\n",
      "OCC_MONTH[T.May]           0.0240      0.020      1.188      0.235      -0.016       0.064\n",
      "OCC_MONTH[T.June]          0.0272      0.021      1.307      0.191      -0.014       0.068\n",
      "OCC_MONTH[T.July]          0.0436      0.020      2.163      0.031       0.004       0.083\n",
      "OCC_MONTH[T.August]        0.0555      0.020      2.727      0.006       0.016       0.095\n",
      "OCC_MONTH[T.September]     0.0382      0.021      1.851      0.064      -0.002       0.079\n",
      "OCC_MONTH[T.October]       0.0129      0.020      0.631      0.528      -0.027       0.053\n",
      "OCC_MONTH[T.November]     -0.0082      0.021     -0.392      0.695      -0.049       0.033\n",
      "OCC_MONTH[T.December]     -0.0227      0.021     -1.105      0.269      -0.063       0.018\n",
      "POPULATION             -7.656e-07    4.7e-07     -1.627      0.104   -1.69e-06    1.57e-07\n",
      "POPDENSITY             -4.659e-06   1.12e-06     -4.156      0.000   -6.86e-06   -2.46e-06\n",
      "POPYOUTH1524               0.0166      0.004      4.495      0.000       0.009       0.024\n",
      "POPSENIOR                  0.0019      0.002      1.209      0.227      -0.001       0.005\n",
      "POPMALE1529                0.0118      0.005      2.325      0.020       0.002       0.022\n",
      "HIGHRISE                   0.0017      0.000      3.906      0.000       0.001       0.003\n",
      "SOCIOLONELY                0.0071      0.001      5.428      0.000       0.005       0.010\n",
      "LOW_INCOME                 0.0121      0.002      7.934      0.000       0.009       0.015\n",
      "UNAFFORDABLE_HOUSE        -0.0168      0.001    -12.076      0.000      -0.019      -0.014\n",
      "INADEQUATE_HOUSE           0.0064      0.003      2.440      0.015       0.001       0.012\n",
      "UNSUITABLE_HOUSE           0.0006      0.002      0.324      0.746      -0.003       0.004\n",
      "DROPOUT                    0.0145      0.001     15.210      0.000       0.013       0.016\n",
      "UNEMPLOYMENT              -0.0377      0.007     -5.102      0.000      -0.052      -0.023\n",
      "MALE_UNEMPLOYMENT          0.0207      0.007      2.960      0.003       0.007       0.034\n",
      "==============================================================================\n",
      "Omnibus:                      314.279   Durbin-Watson:                   1.218\n",
      "Prob(Omnibus):                  0.000   Jarque-Bera (JB):             1107.760\n",
      "Skew:                           1.199   Prob(JB):                    2.84e-241\n",
      "Kurtosis:                       6.948   Cond. No.                     3.69e+05\n",
      "==============================================================================\n",
      "\n",
      "Notes:\n",
      "[1] Standard Errors assume that the covariance matrix of the errors is correctly specified.\n",
      "[2] The condition number is large, 3.69e+05. This might indicate that there are\n",
      "strong multicollinearity or other numerical problems.\n"
     ]
    }
   ],
   "source": [
    "results = ols(\"crime_rate ~ OCC_MONTH + POPULATION + POPDENSITY +POPYOUTH1524 +POPSENIOR +POPMALE1529 +HIGHRISE+SOCIOLONELY+ LOW_INCOME+ UNAFFORDABLE_HOUSE + INADEQUATE_HOUSE + UNSUITABLE_HOUSE + DROPOUT + UNEMPLOYMENT + MALE_UNEMPLOYMENT\", data=grouped_df).fit()\n",
    "print(results.summary())"
   ]
  },
  {
   "cell_type": "markdown",
   "metadata": {},
   "source": [
    "## Modelling"
   ]
  },
  {
   "cell_type": "code",
   "execution_count": 90,
   "metadata": {},
   "outputs": [],
   "source": [
    "categorical_features = ['HOOD_140', 'OCC_MONTH']\n",
    "numerical_features = ['POPULATION', 'POPDENSITY', 'POPYOUTH1524', 'POPSENIOR', 'POPMALE1529',\n",
    " 'HIGHRISE', 'SOCIOLONELY', 'LOW_INCOME', 'UNAFFORDABLE_HOUSE', 'INADEQUATE_HOUSE',\n",
    " 'UNSUITABLE_HOUSE', 'DROPOUT', 'UNEMPLOYMENT', 'MALE_UNEMPLOYMENT']\n",
    "target = 'crime_rate'"
   ]
  },
  {
   "cell_type": "code",
   "execution_count": 91,
   "metadata": {},
   "outputs": [],
   "source": [
    "X_train, X_test, y_train, y_test = train_test_split(grouped_df[categorical_features + numerical_features], grouped_df[target], \n",
    "    test_size = 0.3, random_state = 2345)"
   ]
  },
  {
   "cell_type": "code",
   "execution_count": 92,
   "metadata": {},
   "outputs": [],
   "source": [
    "cat_transformer = Pipeline(steps = [('onehot', OneHotEncoder(handle_unknown='ignore'))])\n",
    "# simple imputer fills missing value with average, KNNImputer, etc\n",
    "num_transformer = Pipeline(steps = [('scaler', MinMaxScaler())])\n",
    "# minmax transform the data between 0 and 1\n",
    "\n",
    "# building processor\n",
    "preprocessor = ColumnTransformer(transformers = [('cat', cat_transformer, categorical_features),\n",
    "                                                 ('num', num_transformer, numerical_features)])"
   ]
  },
  {
   "cell_type": "code",
   "execution_count": 93,
   "metadata": {},
   "outputs": [
    {
     "name": "stdout",
     "output_type": "stream",
     "text": [
      "MSE value:  0.1257875859564365\n",
      "R2 value:  0.525050643935935\n"
     ]
    }
   ],
   "source": [
    "ridge_regression = Pipeline(steps = [('preprocessor', preprocessor),\n",
    "                                      ('regressor', Ridge(alpha = 0.01))\n",
    "                                      ])\n",
    "# higher alpha, more penalty\n",
    "# how to know which hyper param is the best? hyper param tuning\n",
    "ridge_regression.fit(X_train, y_train)\n",
    "pred_ridge = ridge_regression.predict(X_test)\n",
    "print('MSE value: ', np.sqrt(mean_squared_error(pred_ridge, y_test)))\n",
    "print('R2 value: ', r2_score(pred_ridge, y_test))"
   ]
  },
  {
   "cell_type": "code",
   "execution_count": 94,
   "metadata": {},
   "outputs": [
    {
     "name": "stdout",
     "output_type": "stream",
     "text": [
      "MSE value:  0.12593825429876074\n",
      "R2 value:  0.5212424376369356\n"
     ]
    },
    {
     "name": "stderr",
     "output_type": "stream",
     "text": [
      "c:\\Users\\13343\\anaconda3\\lib\\site-packages\\sklearn\\linear_model\\_coordinate_descent.py:592: ConvergenceWarning: Objective did not converge. You might want to increase the number of iterations. Duality gap: 2.9732751763391336, tolerance: 0.00393020567291922\n",
      "  model = cd_fast.sparse_enet_coordinate_descent(\n"
     ]
    }
   ],
   "source": [
    "lasso_regression = Pipeline(steps = [('preprocessor', preprocessor),\n",
    "                                      ('regressor', Lasso(alpha = 0.000000001))\n",
    "                                      ])\n",
    "lasso_regression.fit(X_train, y_train)\n",
    "pred_ridge = lasso_regression.predict(X_test)\n",
    "print('MSE value: ', np.sqrt(mean_squared_error(pred_ridge, y_test)))\n",
    "print('R2 value: ', r2_score(pred_ridge, y_test))"
   ]
  },
  {
   "cell_type": "code",
   "execution_count": 95,
   "metadata": {},
   "outputs": [
    {
     "name": "stdout",
     "output_type": "stream",
     "text": [
      "[('HOOD_140', 0.10797142786566248), ('OCC_MONTH', 0.25051594762267126), ('POPULATION', 0.012892616890316587), ('POPDENSITY', 0.07293459814368251), ('POPYOUTH1524', 0.32461471200873837), ('POPSENIOR', 0.12179703530031082), ('POPMALE1529', -0.04095574127996378), ('HIGHRISE', 0.0030813016549621516), ('SOCIOLONELY', -0.10313580948965333), ('LOW_INCOME', -0.10171657563395863), ('UNAFFORDABLE_HOUSE', -0.0802020039610588), ('INADEQUATE_HOUSE', -0.1486509592047498), ('UNSUITABLE_HOUSE', -0.00016387406843108344), ('DROPOUT', -0.12090750250691239), ('UNEMPLOYMENT', 0.13834100309824135), ('MALE_UNEMPLOYMENT', -0.14712967870148494)]\n"
     ]
    }
   ],
   "source": [
    "feature_names = X_train.columns\n",
    "\n",
    "# Getting the coefficients\n",
    "coefficients = lasso_regression.named_steps['regressor'].coef_\n",
    "\n",
    "# Pair each feature name with its coefficient\n",
    "feature_coef = list(zip(feature_names, coefficients))\n",
    "\n",
    "# Filter only those features which have non-zero coefficients\n",
    "retained_features = [pair for pair in feature_coef if pair[1] != 0]\n",
    "\n",
    "print(retained_features)"
   ]
  },
  {
   "cell_type": "code",
   "execution_count": 96,
   "metadata": {},
   "outputs": [],
   "source": [
    "from sklearn.ensemble import RandomForestRegressor\n",
    "from sklearn.datasets import make_regression"
   ]
  },
  {
   "cell_type": "code",
   "execution_count": 97,
   "metadata": {},
   "outputs": [
    {
     "name": "stdout",
     "output_type": "stream",
     "text": [
      "MSE value:  0.1307214833545705\n",
      "R2 value:  0.48641109267179927\n"
     ]
    }
   ],
   "source": [
    "regr = Pipeline(steps = [('preprocessor', preprocessor),\n",
    "                                      ('regressor', RandomForestRegressor(max_depth=15))\n",
    "                                      ])\n",
    "regr.fit(X_train, y_train)\n",
    "y_pred = regr.predict(X_test)\n",
    "print('MSE value: ', np.sqrt(mean_squared_error(y_pred, y_test)))\n",
    "print('R2 value: ', r2_score(y_pred, y_test))"
   ]
  }
 ],
 "metadata": {
  "kernelspec": {
   "display_name": "base",
   "language": "python",
   "name": "python3"
  },
  "language_info": {
   "codemirror_mode": {
    "name": "ipython",
    "version": 3
   },
   "file_extension": ".py",
   "mimetype": "text/x-python",
   "name": "python",
   "nbconvert_exporter": "python",
   "pygments_lexer": "ipython3",
   "version": "3.10.9"
  },
  "orig_nbformat": 4
 },
 "nbformat": 4,
 "nbformat_minor": 2
}
