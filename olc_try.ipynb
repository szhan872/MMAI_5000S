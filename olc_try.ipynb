{
 "cells": [
  {
   "cell_type": "code",
   "execution_count": 1,
   "metadata": {},
   "outputs": [],
   "source": [
    "import seaborn as sns\n",
    "import pandas as pd\n",
    "import numpy as np\n",
    "import matplotlib.pyplot as plt\n",
    "%matplotlib inline\n",
    "from statsmodels.formula.api import ols\n",
    "import statsmodels.api as sm\n",
    "\n",
    "from sklearn.model_selection import train_test_split\n",
    "from sklearn.pipeline import Pipeline\n",
    "from sklearn.compose import ColumnTransformer\n",
    "from sklearn.preprocessing import OneHotEncoder, MinMaxScaler\n",
    "from sklearn.linear_model import LinearRegression, ElasticNet, Ridge, Lasso\n",
    "from sklearn.metrics import mean_squared_error, r2_score"
   ]
  },
  {
   "cell_type": "code",
   "execution_count": 2,
   "metadata": {},
   "outputs": [],
   "source": [
    "df = pd.read_csv('CrimeDatabase_Extended.csv')"
   ]
  },
  {
   "cell_type": "code",
   "execution_count": 3,
   "metadata": {},
   "outputs": [
    {
     "name": "stdout",
     "output_type": "stream",
     "text": [
      "<class 'pandas.core.frame.DataFrame'>\n",
      "RangeIndex: 5641 entries, 0 to 5640\n",
      "Data columns (total 38 columns):\n",
      " #   Column              Non-Null Count  Dtype  \n",
      "---  ------              --------------  -----  \n",
      " 0   X                   5641 non-null   float64\n",
      " 1   Y                   5641 non-null   float64\n",
      " 2   OBJECTID            5641 non-null   int64  \n",
      " 3   EVENT_UNIQUE_ID     5641 non-null   object \n",
      " 4   OCC_DATE            5641 non-null   object \n",
      " 5   OCC_YEAR            5641 non-null   int64  \n",
      " 6   OCC_MONTH           5641 non-null   object \n",
      " 7   OCC_DOW             5641 non-null   object \n",
      " 8   OCC_DOY             5641 non-null   int64  \n",
      " 9   OCC_DAY             5641 non-null   int64  \n",
      " 10  OCC_HOUR            5641 non-null   int64  \n",
      " 11  OCC_TIME_RANGE      5641 non-null   object \n",
      " 12  DIVISION            5641 non-null   object \n",
      " 13  DEATH               5641 non-null   int64  \n",
      " 14  INJURIES            5641 non-null   int64  \n",
      " 15  HOOD_158            5641 non-null   int64  \n",
      " 16  NEIGHBOURHOOD_158   5641 non-null   object \n",
      " 17  HOOD_140            5641 non-null   int64  \n",
      " 18  NEIGHBOURHOOD_140   5641 non-null   object \n",
      " 19  LONG_WGS84          5641 non-null   float64\n",
      " 20  LAT_WGS84           5641 non-null   float64\n",
      " 21  Region              5641 non-null   int64  \n",
      " 22  REGION_ID           5641 non-null   int64  \n",
      " 23  REGION              5641 non-null   object \n",
      " 24  POPULATION          5641 non-null   int64  \n",
      " 25  POPDENSITY          5641 non-null   int64  \n",
      " 26  POPYOUTH1524        5641 non-null   object \n",
      " 27  POPSENIOR           5641 non-null   object \n",
      " 28  POPMALE1529         5641 non-null   object \n",
      " 29  HIGHRISE            5641 non-null   object \n",
      " 30  SOCIOLONELY         5641 non-null   object \n",
      " 31  LOW_INCOME          5641 non-null   object \n",
      " 32  UNAFFORDABLE_HOUSE  5641 non-null   object \n",
      " 33  INADEQUATE_HOUSE    5641 non-null   object \n",
      " 34  UNSUITABLE_HOUSE    5641 non-null   object \n",
      " 35  DROPOUT             5641 non-null   object \n",
      " 36  UNEMPLOYMENT        5641 non-null   object \n",
      " 37  MALE_UNEMPLOYMENT   5641 non-null   object \n",
      "dtypes: float64(4), int64(13), object(21)\n",
      "memory usage: 1.6+ MB\n"
     ]
    }
   ],
   "source": [
    "df.info()"
   ]
  },
  {
   "cell_type": "markdown",
   "metadata": {},
   "source": [
    "There are many date related variables in this dataset, generate a variable called month in number and remove the rest."
   ]
  },
  {
   "cell_type": "code",
   "execution_count": 4,
   "metadata": {},
   "outputs": [],
   "source": [
    "df['datetime'] = pd.to_datetime(df['OCC_DATE'])"
   ]
  },
  {
   "cell_type": "code",
   "execution_count": 5,
   "metadata": {},
   "outputs": [],
   "source": [
    "df['month'] = df['datetime'].dt.month"
   ]
  },
  {
   "cell_type": "code",
   "execution_count": 6,
   "metadata": {},
   "outputs": [
    {
     "data": {
      "text/html": [
       "<div>\n",
       "<style scoped>\n",
       "    .dataframe tbody tr th:only-of-type {\n",
       "        vertical-align: middle;\n",
       "    }\n",
       "\n",
       "    .dataframe tbody tr th {\n",
       "        vertical-align: top;\n",
       "    }\n",
       "\n",
       "    .dataframe thead th {\n",
       "        text-align: right;\n",
       "    }\n",
       "</style>\n",
       "<table border=\"1\" class=\"dataframe\">\n",
       "  <thead>\n",
       "    <tr style=\"text-align: right;\">\n",
       "      <th></th>\n",
       "      <th>X</th>\n",
       "      <th>Y</th>\n",
       "      <th>OBJECTID</th>\n",
       "      <th>EVENT_UNIQUE_ID</th>\n",
       "      <th>OCC_DATE</th>\n",
       "      <th>OCC_YEAR</th>\n",
       "      <th>OCC_MONTH</th>\n",
       "      <th>OCC_DOW</th>\n",
       "      <th>OCC_DOY</th>\n",
       "      <th>OCC_DAY</th>\n",
       "      <th>...</th>\n",
       "      <th>SOCIOLONELY</th>\n",
       "      <th>LOW_INCOME</th>\n",
       "      <th>UNAFFORDABLE_HOUSE</th>\n",
       "      <th>INADEQUATE_HOUSE</th>\n",
       "      <th>UNSUITABLE_HOUSE</th>\n",
       "      <th>DROPOUT</th>\n",
       "      <th>UNEMPLOYMENT</th>\n",
       "      <th>MALE_UNEMPLOYMENT</th>\n",
       "      <th>datetime</th>\n",
       "      <th>month</th>\n",
       "    </tr>\n",
       "  </thead>\n",
       "  <tbody>\n",
       "    <tr>\n",
       "      <th>0</th>\n",
       "      <td>-79.234955</td>\n",
       "      <td>43.781528</td>\n",
       "      <td>1</td>\n",
       "      <td>GO-2004397105</td>\n",
       "      <td>2004/05/15 04:00:00+00</td>\n",
       "      <td>2004</td>\n",
       "      <td>May</td>\n",
       "      <td>Saturday</td>\n",
       "      <td>136</td>\n",
       "      <td>15</td>\n",
       "      <td>...</td>\n",
       "      <td>9.70%</td>\n",
       "      <td>27.20%</td>\n",
       "      <td>35.90%</td>\n",
       "      <td>7.80%</td>\n",
       "      <td>19.20%</td>\n",
       "      <td>20.39%</td>\n",
       "      <td>10.60%</td>\n",
       "      <td>9.80%</td>\n",
       "      <td>2004-05-15 04:00:00+00:00</td>\n",
       "      <td>5</td>\n",
       "    </tr>\n",
       "    <tr>\n",
       "      <th>1</th>\n",
       "      <td>-79.618218</td>\n",
       "      <td>43.733547</td>\n",
       "      <td>2</td>\n",
       "      <td>GO-2004600109</td>\n",
       "      <td>2004/07/26 04:00:00+00</td>\n",
       "      <td>2004</td>\n",
       "      <td>July</td>\n",
       "      <td>Monday</td>\n",
       "      <td>208</td>\n",
       "      <td>26</td>\n",
       "      <td>...</td>\n",
       "      <td>6.50%</td>\n",
       "      <td>15.80%</td>\n",
       "      <td>31.70%</td>\n",
       "      <td>4.70%</td>\n",
       "      <td>17.40%</td>\n",
       "      <td>21.21%</td>\n",
       "      <td>9.60%</td>\n",
       "      <td>9.20%</td>\n",
       "      <td>2004-07-26 04:00:00+00:00</td>\n",
       "      <td>7</td>\n",
       "    </tr>\n",
       "    <tr>\n",
       "      <th>2</th>\n",
       "      <td>-79.518759</td>\n",
       "      <td>43.769157</td>\n",
       "      <td>3</td>\n",
       "      <td>GO-2004311851</td>\n",
       "      <td>2004/05/14 04:00:00+00</td>\n",
       "      <td>2004</td>\n",
       "      <td>May</td>\n",
       "      <td>Friday</td>\n",
       "      <td>135</td>\n",
       "      <td>14</td>\n",
       "      <td>...</td>\n",
       "      <td>9.80%</td>\n",
       "      <td>33.00%</td>\n",
       "      <td>36.70%</td>\n",
       "      <td>13.60%</td>\n",
       "      <td>26.60%</td>\n",
       "      <td>37.84%</td>\n",
       "      <td>12.70%</td>\n",
       "      <td>11.30%</td>\n",
       "      <td>2004-05-14 04:00:00+00:00</td>\n",
       "      <td>5</td>\n",
       "    </tr>\n",
       "    <tr>\n",
       "      <th>3</th>\n",
       "      <td>-79.378870</td>\n",
       "      <td>43.660665</td>\n",
       "      <td>4</td>\n",
       "      <td>GO-2004736004</td>\n",
       "      <td>2004/12/19 05:00:00+00</td>\n",
       "      <td>2004</td>\n",
       "      <td>December</td>\n",
       "      <td>Sunday</td>\n",
       "      <td>354</td>\n",
       "      <td>19</td>\n",
       "      <td>...</td>\n",
       "      <td>39.20%</td>\n",
       "      <td>26.00%</td>\n",
       "      <td>45.10%</td>\n",
       "      <td>5.30%</td>\n",
       "      <td>8.70%</td>\n",
       "      <td>4.19%</td>\n",
       "      <td>8.50%</td>\n",
       "      <td>7.90%</td>\n",
       "      <td>2004-12-19 05:00:00+00:00</td>\n",
       "      <td>12</td>\n",
       "    </tr>\n",
       "    <tr>\n",
       "      <th>4</th>\n",
       "      <td>-79.212435</td>\n",
       "      <td>43.812075</td>\n",
       "      <td>5</td>\n",
       "      <td>GO-2004303455</td>\n",
       "      <td>2004/04/12 04:00:00+00</td>\n",
       "      <td>2004</td>\n",
       "      <td>April</td>\n",
       "      <td>Monday</td>\n",
       "      <td>103</td>\n",
       "      <td>12</td>\n",
       "      <td>...</td>\n",
       "      <td>5.90%</td>\n",
       "      <td>20.40%</td>\n",
       "      <td>35.70%</td>\n",
       "      <td>6.90%</td>\n",
       "      <td>17.30%</td>\n",
       "      <td>20.47%</td>\n",
       "      <td>10.50%</td>\n",
       "      <td>10.60%</td>\n",
       "      <td>2004-04-12 04:00:00+00:00</td>\n",
       "      <td>4</td>\n",
       "    </tr>\n",
       "  </tbody>\n",
       "</table>\n",
       "<p>5 rows × 40 columns</p>\n",
       "</div>"
      ],
      "text/plain": [
       "           X          Y  OBJECTID EVENT_UNIQUE_ID                OCC_DATE  \\\n",
       "0 -79.234955  43.781528         1   GO-2004397105  2004/05/15 04:00:00+00   \n",
       "1 -79.618218  43.733547         2   GO-2004600109  2004/07/26 04:00:00+00   \n",
       "2 -79.518759  43.769157         3   GO-2004311851  2004/05/14 04:00:00+00   \n",
       "3 -79.378870  43.660665         4   GO-2004736004  2004/12/19 05:00:00+00   \n",
       "4 -79.212435  43.812075         5   GO-2004303455  2004/04/12 04:00:00+00   \n",
       "\n",
       "   OCC_YEAR OCC_MONTH   OCC_DOW  OCC_DOY  OCC_DAY  ...  SOCIOLONELY  \\\n",
       "0      2004       May  Saturday      136       15  ...        9.70%   \n",
       "1      2004      July    Monday      208       26  ...        6.50%   \n",
       "2      2004       May    Friday      135       14  ...        9.80%   \n",
       "3      2004  December    Sunday      354       19  ...       39.20%   \n",
       "4      2004     April    Monday      103       12  ...        5.90%   \n",
       "\n",
       "  LOW_INCOME UNAFFORDABLE_HOUSE  INADEQUATE_HOUSE  UNSUITABLE_HOUSE  DROPOUT  \\\n",
       "0     27.20%             35.90%             7.80%            19.20%   20.39%   \n",
       "1     15.80%             31.70%             4.70%            17.40%   21.21%   \n",
       "2     33.00%             36.70%            13.60%            26.60%   37.84%   \n",
       "3     26.00%             45.10%             5.30%             8.70%    4.19%   \n",
       "4     20.40%             35.70%             6.90%            17.30%   20.47%   \n",
       "\n",
       "  UNEMPLOYMENT  MALE_UNEMPLOYMENT                  datetime  month  \n",
       "0       10.60%              9.80% 2004-05-15 04:00:00+00:00      5  \n",
       "1        9.60%              9.20% 2004-07-26 04:00:00+00:00      7  \n",
       "2       12.70%             11.30% 2004-05-14 04:00:00+00:00      5  \n",
       "3        8.50%              7.90% 2004-12-19 05:00:00+00:00     12  \n",
       "4       10.50%             10.60% 2004-04-12 04:00:00+00:00      4  \n",
       "\n",
       "[5 rows x 40 columns]"
      ]
     },
     "execution_count": 6,
     "metadata": {},
     "output_type": "execute_result"
    }
   ],
   "source": [
    "df.head()"
   ]
  },
  {
   "cell_type": "markdown",
   "metadata": {},
   "source": [
    "Since we want to analyze how does the society metrics, such as dropout rate, affect the crime rate, Group the data by HOOD_140 and month. "
   ]
  },
  {
   "cell_type": "code",
   "execution_count": 7,
   "metadata": {},
   "outputs": [
    {
     "name": "stdout",
     "output_type": "stream",
     "text": [
      "      HOOD_140  OCC_MONTH  month  POPULATION  POPDENSITY POPYOUTH1524  \\\n",
      "0            1      April      4       33312        1117       16.35%   \n",
      "1            1     August      8       33312        1117       16.35%   \n",
      "2            1   December     12       33312        1117       16.35%   \n",
      "3            1   February      2       33312        1117       16.35%   \n",
      "4            1    January      1       33312        1117       16.35%   \n",
      "...        ...        ...    ...         ...         ...          ...   \n",
      "1241       140   December     12        9917        2673       10.74%   \n",
      "1242       140       June      6        9917        2673       10.74%   \n",
      "1243       140      March      3        9917        2673       10.74%   \n",
      "1244       140        May      5        9917        2673       10.74%   \n",
      "1245       140  September      9        9917        2673       10.74%   \n",
      "\n",
      "     POPSENIOR POPMALE1529 HIGHRISE SOCIOLONELY LOW_INCOME UNAFFORDABLE_HOUSE  \\\n",
      "0       14.95%      13.06%   22.01%       6.50%     15.80%             31.70%   \n",
      "1       14.95%      13.06%   22.01%       6.50%     15.80%             31.70%   \n",
      "2       14.95%      13.06%   22.01%       6.50%     15.80%             31.70%   \n",
      "3       14.95%      13.06%   22.01%       6.50%     15.80%             31.70%   \n",
      "4       14.95%      13.06%   22.01%       6.50%     15.80%             31.70%   \n",
      "...        ...         ...      ...         ...        ...                ...   \n",
      "1241    26.57%       7.92%   27.32%      13.40%      7.70%             23.80%   \n",
      "1242    26.57%       7.92%   27.32%      13.40%      7.70%             23.80%   \n",
      "1243    26.57%       7.92%   27.32%      13.40%      7.70%             23.80%   \n",
      "1244    26.57%       7.92%   27.32%      13.40%      7.70%             23.80%   \n",
      "1245    26.57%       7.92%   27.32%      13.40%      7.70%             23.80%   \n",
      "\n",
      "     INADEQUATE_HOUSE UNSUITABLE_HOUSE DROPOUT UNEMPLOYMENT MALE_UNEMPLOYMENT  \\\n",
      "0               4.70%           17.40%  21.21%        9.60%             9.20%   \n",
      "1               4.70%           17.40%  21.21%        9.60%             9.20%   \n",
      "2               4.70%           17.40%  21.21%        9.60%             9.20%   \n",
      "3               4.70%           17.40%  21.21%        9.60%             9.20%   \n",
      "4               4.70%           17.40%  21.21%        9.60%             9.20%   \n",
      "...               ...              ...     ...          ...               ...   \n",
      "1241            3.80%            3.90%  12.91%        7.90%             7.40%   \n",
      "1242            3.80%            3.90%  12.91%        7.90%             7.40%   \n",
      "1243            3.80%            3.90%  12.91%        7.90%             7.40%   \n",
      "1244            3.80%            3.90%  12.91%        7.90%             7.40%   \n",
      "1245            3.80%            3.90%  12.91%        7.90%             7.40%   \n",
      "\n",
      "      count  \n",
      "0        13  \n",
      "1        13  \n",
      "2         7  \n",
      "3         7  \n",
      "4        12  \n",
      "...     ...  \n",
      "1241      1  \n",
      "1242      1  \n",
      "1243      1  \n",
      "1244      2  \n",
      "1245      1  \n",
      "\n",
      "[1246 rows x 18 columns]\n"
     ]
    }
   ],
   "source": [
    "features = ['month', 'POPULATION', 'POPDENSITY', 'POPYOUTH1524', 'POPSENIOR', 'POPMALE1529', 'HIGHRISE', 'SOCIOLONELY', 'LOW_INCOME', 'UNAFFORDABLE_HOUSE', 'INADEQUATE_HOUSE', 'UNSUITABLE_HOUSE', \n",
    "            'DROPOUT', 'UNEMPLOYMENT', 'MALE_UNEMPLOYMENT']\n",
    "# POPULATION\tPOPDENSITY\tPOPYOUTH1524\tPOPSENIOR\tPOPMALE1529\tHIGHRISE\tSOCIOLONELY\tLOW_INCOME\tUNAFFORDABLE_HOUSE\tINADEQUATE_HOUSE\tUNSUITABLE_HOUSE\tDROPOUT\tUNEMPLOYMENT\tMALE_UNEMPLOYMENT\n",
    "\n",
    "\n",
    "grouped_df = df.groupby(['HOOD_140', 'OCC_MONTH'])[features].min()\n",
    "\n",
    "# Reset the index to have the grouped columns as separate columns\n",
    "grouped_df = grouped_df.reset_index()\n",
    "\n",
    "# Add a new column 'count' representing the number of rows in the original dataset for each group\n",
    "grouped_df['count'] = df.groupby(['HOOD_140', 'OCC_MONTH']).size().reset_index(name='count')['count']\n",
    "\n",
    "# Display the resulting DataFrame\n",
    "print(grouped_df)"
   ]
  },
  {
   "cell_type": "markdown",
   "metadata": {},
   "source": [
    "Reorder the dataset by month, and display the data of first neighbor hood"
   ]
  },
  {
   "cell_type": "code",
   "execution_count": 8,
   "metadata": {},
   "outputs": [
    {
     "name": "stdout",
     "output_type": "stream",
     "text": [
      "    index  HOOD_140  OCC_MONTH  month  POPULATION  POPDENSITY POPYOUTH1524  \\\n",
      "0       4         1    January      1       33312        1117       16.35%   \n",
      "1       3         1   February      2       33312        1117       16.35%   \n",
      "2       7         1      March      3       33312        1117       16.35%   \n",
      "3       0         1      April      4       33312        1117       16.35%   \n",
      "4       8         1        May      5       33312        1117       16.35%   \n",
      "5       6         1       June      6       33312        1117       16.35%   \n",
      "6       5         1       July      7       33312        1117       16.35%   \n",
      "7       1         1     August      8       33312        1117       16.35%   \n",
      "8      11         1  September      9       33312        1117       16.35%   \n",
      "9      10         1    October     10       33312        1117       16.35%   \n",
      "10      9         1   November     11       33312        1117       16.35%   \n",
      "11      2         1   December     12       33312        1117       16.35%   \n",
      "\n",
      "   POPSENIOR POPMALE1529 HIGHRISE SOCIOLONELY LOW_INCOME UNAFFORDABLE_HOUSE  \\\n",
      "0     14.95%      13.06%   22.01%       6.50%     15.80%             31.70%   \n",
      "1     14.95%      13.06%   22.01%       6.50%     15.80%             31.70%   \n",
      "2     14.95%      13.06%   22.01%       6.50%     15.80%             31.70%   \n",
      "3     14.95%      13.06%   22.01%       6.50%     15.80%             31.70%   \n",
      "4     14.95%      13.06%   22.01%       6.50%     15.80%             31.70%   \n",
      "5     14.95%      13.06%   22.01%       6.50%     15.80%             31.70%   \n",
      "6     14.95%      13.06%   22.01%       6.50%     15.80%             31.70%   \n",
      "7     14.95%      13.06%   22.01%       6.50%     15.80%             31.70%   \n",
      "8     14.95%      13.06%   22.01%       6.50%     15.80%             31.70%   \n",
      "9     14.95%      13.06%   22.01%       6.50%     15.80%             31.70%   \n",
      "10    14.95%      13.06%   22.01%       6.50%     15.80%             31.70%   \n",
      "11    14.95%      13.06%   22.01%       6.50%     15.80%             31.70%   \n",
      "\n",
      "   INADEQUATE_HOUSE UNSUITABLE_HOUSE DROPOUT UNEMPLOYMENT MALE_UNEMPLOYMENT  \\\n",
      "0             4.70%           17.40%  21.21%        9.60%             9.20%   \n",
      "1             4.70%           17.40%  21.21%        9.60%             9.20%   \n",
      "2             4.70%           17.40%  21.21%        9.60%             9.20%   \n",
      "3             4.70%           17.40%  21.21%        9.60%             9.20%   \n",
      "4             4.70%           17.40%  21.21%        9.60%             9.20%   \n",
      "5             4.70%           17.40%  21.21%        9.60%             9.20%   \n",
      "6             4.70%           17.40%  21.21%        9.60%             9.20%   \n",
      "7             4.70%           17.40%  21.21%        9.60%             9.20%   \n",
      "8             4.70%           17.40%  21.21%        9.60%             9.20%   \n",
      "9             4.70%           17.40%  21.21%        9.60%             9.20%   \n",
      "10            4.70%           17.40%  21.21%        9.60%             9.20%   \n",
      "11            4.70%           17.40%  21.21%        9.60%             9.20%   \n",
      "\n",
      "    count  \n",
      "0      12  \n",
      "1       7  \n",
      "2       5  \n",
      "3      13  \n",
      "4      14  \n",
      "5       9  \n",
      "6      18  \n",
      "7      13  \n",
      "8      16  \n",
      "9       8  \n",
      "10     10  \n",
      "11      7  \n"
     ]
    }
   ],
   "source": [
    "month_order = ['January', 'February', 'March', 'April', 'May', 'June', 'July', 'August', 'September', 'October', 'November', 'December']\n",
    "grouped_df['OCC_MONTH'] = pd.Categorical(grouped_df['OCC_MONTH'], categories=month_order, ordered=True)\n",
    "\n",
    "grouped_df = grouped_df.sort_values(by=['HOOD_140', 'OCC_MONTH'])\n",
    "grouped_df.reset_index(inplace=True)\n",
    "# grouped_df = grouped_df.drop('index', axis = 1)\n",
    "\n",
    "# print(grouped_df[grouped_df['HOOD_140'] == 1])\n",
    "print(grouped_df[grouped_df['HOOD_140'] == 1])"
   ]
  },
  {
   "cell_type": "markdown",
   "metadata": {},
   "source": [
    "Add a new column called **crime rate** by **thousandth**"
   ]
  },
  {
   "cell_type": "code",
   "execution_count": 9,
   "metadata": {},
   "outputs": [],
   "source": [
    "grouped_df['crime_rate'] = grouped_df['count'] / grouped_df['POPULATION'] * 1000"
   ]
  },
  {
   "cell_type": "markdown",
   "metadata": {},
   "source": [
    "This following plot shows the overall distribution of the crime rate. Since we want to monitor as much variance as possible, we do not remove the outliers of crime rate."
   ]
  },
  {
   "cell_type": "code",
   "execution_count": 10,
   "metadata": {},
   "outputs": [
    {
     "data": {
      "text/plain": [
       "<Axes: xlabel='crime_rate', ylabel='Count'>"
      ]
     },
     "execution_count": 10,
     "metadata": {},
     "output_type": "execute_result"
    },
    {
     "data": {
      "image/png": "[encoded data removed]",
      "text/plain": [
       "<Figure size 640x480 with 1 Axes>"
      ]
     },
     "metadata": {},
     "output_type": "display_data"
    }
   ],
   "source": [
    "sns.histplot(grouped_df['crime_rate'])"
   ]
  },
  {
   "cell_type": "markdown",
   "metadata": {},
   "source": [
    "The external dataset contains percentage variables. Convert them into floats for the purpose of modelling."
   ]
  },
  {
   "cell_type": "code",
   "execution_count": 11,
   "metadata": {},
   "outputs": [
    {
     "name": "stdout",
     "output_type": "stream",
     "text": [
      "index                    int64\n",
      "HOOD_140                 int64\n",
      "OCC_MONTH             category\n",
      "month                    int64\n",
      "POPULATION               int64\n",
      "POPDENSITY               int64\n",
      "POPYOUTH1524           float64\n",
      "POPSENIOR              float64\n",
      "POPMALE1529            float64\n",
      "HIGHRISE               float64\n",
      "SOCIOLONELY            float64\n",
      "LOW_INCOME             float64\n",
      "UNAFFORDABLE_HOUSE     float64\n",
      "INADEQUATE_HOUSE       float64\n",
      "UNSUITABLE_HOUSE       float64\n",
      "DROPOUT                float64\n",
      "UNEMPLOYMENT           float64\n",
      "MALE_UNEMPLOYMENT      float64\n",
      "count                    int64\n",
      "crime_rate             float64\n",
      "dtype: object\n"
     ]
    }
   ],
   "source": [
    "column_data_types = {\n",
    "   'POPYOUTH1524' : 'float64'  ,\n",
    "   'POPSENIOR' : 'float64' ,\n",
    "   'POPMALE1529' : 'float64' ,\n",
    "   'HIGHRISE' : 'float64' ,\n",
    "   'SOCIOLONELY' : 'float64' ,\n",
    "   'LOW_INCOME' : 'float64' ,\n",
    "   'UNAFFORDABLE_HOUSE' : 'float64' ,\n",
    "   'INADEQUATE_HOUSE' : 'float64' ,\n",
    "   'UNSUITABLE_HOUSE' : 'float64' ,\n",
    "   'DROPOUT' : 'float64' ,\n",
    "   'UNEMPLOYMENT' : 'float64' ,\n",
    "   'MALE_UNEMPLOYMENT' : 'float64'\n",
    "}\n",
    "\n",
    "for key in column_data_types.keys():\n",
    "    grouped_df[key] = grouped_df[key].str.strip('%')\n",
    "    grouped_df[key] = pd.to_numeric(grouped_df[key])\n",
    "\n",
    "# grouped_df[column_data_types.keys()] = pd.to_numeric(grouped_df[column_data_types.keys()])\n",
    "\n",
    "# Change the data type of the columns using astype()\n",
    "# grouped_df = grouped_df.astype(column_data_types)\n",
    "print(grouped_df.dtypes)"
   ]
  },
  {
   "cell_type": "code",
   "execution_count": 12,
   "metadata": {},
   "outputs": [
    {
     "data": {
      "text/plain": [
       "\"hoods = grouped_df['HOOD_140'].unique()\\ndf_hoods = grouped_df\\nhood_crime_rate = {}\\n# fill the dictionary with hood number and crime rates\\nfor i in hoods:\\n    hood_crime_rate[i] = np.sum(df_hoods[df_hoods['HOOD_140'] == i]['crime_rate'])\\n\\ndf_hoods['hood_crime_rate'] = df_hoods['HOOD_140'].map(hood_crime_rate)\\n# now we have the total crime rate of hood_140\""
      ]
     },
     "execution_count": 12,
     "metadata": {},
     "output_type": "execute_result"
    }
   ],
   "source": [
    "# This code snippet acts as a demo of data visualization\n",
    "\n",
    "'''hoods = grouped_df['HOOD_140'].unique()\n",
    "df_hoods = grouped_df\n",
    "hood_crime_rate = {}\n",
    "# fill the dictionary with hood number and crime rates\n",
    "for i in hoods:\n",
    "    hood_crime_rate[i] = np.sum(df_hoods[df_hoods['HOOD_140'] == i]['crime_rate'])\n",
    "\n",
    "df_hoods['hood_crime_rate'] = df_hoods['HOOD_140'].map(hood_crime_rate)\n",
    "# now we have the total crime rate of hood_140'''"
   ]
  },
  {
   "cell_type": "code",
   "execution_count": 13,
   "metadata": {},
   "outputs": [],
   "source": [
    "# plot crime rate to DROPOUT\n",
    "# sns.lmplot(x = 'hood_crime_rate', y = 'DROPOUT', data = df_hoods)"
   ]
  },
  {
   "cell_type": "markdown",
   "metadata": {},
   "source": [
    "**OLS** and summary function are used to generate t and P value of variables. A low P and high t indicates that it is significant to crime rate. Low significant variables can be removed for efficiency and accuracy."
   ]
  },
  {
   "cell_type": "code",
   "execution_count": 14,
   "metadata": {},
   "outputs": [
    {
     "name": "stdout",
     "output_type": "stream",
     "text": [
      "                            OLS Regression Results                            \n",
      "==============================================================================\n",
      "Dep. Variable:             crime_rate   R-squared:                       0.503\n",
      "Model:                            OLS   Adj. R-squared:                  0.493\n",
      "Method:                 Least Squares   F-statistic:                     51.52\n",
      "Date:                Sat, 22 Jul 2023   Prob (F-statistic):          2.27e-166\n",
      "Time:                        21:54:55   Log-Likelihood:                 619.15\n",
      "No. Observations:                1246   AIC:                            -1188.\n",
      "Df Residuals:                    1221   BIC:                            -1060.\n",
      "Df Model:                          24                                         \n",
      "Covariance Type:            nonrobust                                         \n",
      "==========================================================================================\n",
      "                             coef    std err          t      P>|t|      [0.025      0.975]\n",
      "------------------------------------------------------------------------------------------\n",
      "Intercept                 -0.1187      0.060     -1.981      0.048      -0.236      -0.001\n",
      "OCC_MONTH[T.February]     -0.0436      0.021     -2.089      0.037      -0.085      -0.003\n",
      "OCC_MONTH[T.March]        -0.0105      0.021     -0.507      0.612      -0.051       0.030\n",
      "OCC_MONTH[T.April]        -0.0028      0.021     -0.135      0.893      -0.043       0.038\n",
      "OCC_MONTH[T.May]           0.0242      0.020      1.195      0.232      -0.015       0.064\n",
      "OCC_MONTH[T.June]          0.0271      0.021      1.302      0.193      -0.014       0.068\n",
      "OCC_MONTH[T.July]          0.0436      0.020      2.162      0.031       0.004       0.083\n",
      "OCC_MONTH[T.August]        0.0555      0.020      2.728      0.006       0.016       0.095\n",
      "OCC_MONTH[T.September]     0.0380      0.021      1.842      0.066      -0.002       0.079\n",
      "OCC_MONTH[T.October]       0.0128      0.020      0.624      0.533      -0.027       0.053\n",
      "OCC_MONTH[T.November]     -0.0083      0.021     -0.399      0.690      -0.049       0.033\n",
      "OCC_MONTH[T.December]     -0.0227      0.021     -1.104      0.270      -0.063       0.018\n",
      "POPDENSITY             -4.403e-06   1.11e-06     -3.964      0.000   -6.58e-06   -2.22e-06\n",
      "POPYOUTH1524               0.0177      0.004      4.851      0.000       0.011       0.025\n",
      "POPSENIOR                  0.0022      0.002      1.465      0.143      -0.001       0.005\n",
      "POPMALE1529                0.0104      0.005      2.083      0.037       0.001       0.020\n",
      "HIGHRISE                   0.0016      0.000      3.659      0.000       0.001       0.002\n",
      "SOCIOLONELY                0.0073      0.001      5.622      0.000       0.005       0.010\n",
      "LOW_INCOME                 0.0124      0.002      8.162      0.000       0.009       0.015\n",
      "UNAFFORDABLE_HOUSE        -0.0168      0.001    -12.142      0.000      -0.020      -0.014\n",
      "INADEQUATE_HOUSE           0.0073      0.003      2.798      0.005       0.002       0.012\n",
      "UNSUITABLE_HOUSE           0.0006      0.002      0.351      0.725      -0.003       0.004\n",
      "DROPOUT                    0.0145      0.001     15.202      0.000       0.013       0.016\n",
      "UNEMPLOYMENT              -0.0395      0.007     -5.418      0.000      -0.054      -0.025\n",
      "MALE_UNEMPLOYMENT          0.0217      0.007      3.116      0.002       0.008       0.035\n",
      "==============================================================================\n",
      "Omnibus:                      319.554   Durbin-Watson:                   1.218\n",
      "Prob(Omnibus):                  0.000   Jarque-Bera (JB):             1130.144\n",
      "Skew:                           1.219   Prob(JB):                    3.91e-246\n",
      "Kurtosis:                       6.979   Cond. No.                     1.24e+05\n",
      "==============================================================================\n",
      "\n",
      "Notes:\n",
      "[1] Standard Errors assume that the covariance matrix of the errors is correctly specified.\n",
      "[2] The condition number is large, 1.24e+05. This might indicate that there are\n",
      "strong multicollinearity or other numerical problems.\n"
     ]
    }
   ],
   "source": [
    "results = ols(\"crime_rate ~ OCC_MONTH +  POPDENSITY +POPYOUTH1524 +POPSENIOR +POPMALE1529 +HIGHRISE+SOCIOLONELY+ LOW_INCOME+ UNAFFORDABLE_HOUSE + INADEQUATE_HOUSE + UNSUITABLE_HOUSE + DROPOUT + UNEMPLOYMENT + MALE_UNEMPLOYMENT\", data=grouped_df).fit()\n",
    "print(results.summary())"
   ]
  },
  {
   "cell_type": "markdown",
   "metadata": {},
   "source": [
    "## Modelling"
   ]
  },
  {
   "cell_type": "markdown",
   "metadata": {},
   "source": [
    "Begin by using the simplest **OLS regression** model with reduced multicolinearity and variables that are significant."
   ]
  },
  {
   "cell_type": "code",
   "execution_count": 15,
   "metadata": {},
   "outputs": [],
   "source": [
    "# Modify the original dataset for modelling with fewer but more interpretable variables\n",
    "df_ols = grouped_df\n",
    "lamb = lambda x : 1 if (grouped_df['month'] == 7 or grouped_df['month'] == 8 or grouped_df['month'] == 9) else 0\n",
    "def peak(x):\n",
    "    if x == 7 or x == 8 or x == 9:\n",
    "        return 1\n",
    "    else: return 0\n"
   ]
  },
  {
   "cell_type": "code",
   "execution_count": 16,
   "metadata": {},
   "outputs": [
    {
     "data": {
      "text/html": [
       "<div>\n",
       "<style scoped>\n",
       "    .dataframe tbody tr th:only-of-type {\n",
       "        vertical-align: middle;\n",
       "    }\n",
       "\n",
       "    .dataframe tbody tr th {\n",
       "        vertical-align: top;\n",
       "    }\n",
       "\n",
       "    .dataframe thead th {\n",
       "        text-align: right;\n",
       "    }\n",
       "</style>\n",
       "<table border=\"1\" class=\"dataframe\">\n",
       "  <thead>\n",
       "    <tr style=\"text-align: right;\">\n",
       "      <th></th>\n",
       "      <th>index</th>\n",
       "      <th>HOOD_140</th>\n",
       "      <th>OCC_MONTH</th>\n",
       "      <th>month</th>\n",
       "      <th>POPULATION</th>\n",
       "      <th>POPDENSITY</th>\n",
       "      <th>POPYOUTH1524</th>\n",
       "      <th>POPSENIOR</th>\n",
       "      <th>POPMALE1529</th>\n",
       "      <th>HIGHRISE</th>\n",
       "      <th>...</th>\n",
       "      <th>LOW_INCOME</th>\n",
       "      <th>UNAFFORDABLE_HOUSE</th>\n",
       "      <th>INADEQUATE_HOUSE</th>\n",
       "      <th>UNSUITABLE_HOUSE</th>\n",
       "      <th>DROPOUT</th>\n",
       "      <th>UNEMPLOYMENT</th>\n",
       "      <th>MALE_UNEMPLOYMENT</th>\n",
       "      <th>count</th>\n",
       "      <th>crime_rate</th>\n",
       "      <th>PEAK_GUNSEASON</th>\n",
       "    </tr>\n",
       "  </thead>\n",
       "  <tbody>\n",
       "    <tr>\n",
       "      <th>0</th>\n",
       "      <td>4</td>\n",
       "      <td>1</td>\n",
       "      <td>January</td>\n",
       "      <td>1</td>\n",
       "      <td>33312</td>\n",
       "      <td>1117</td>\n",
       "      <td>16.35</td>\n",
       "      <td>14.95</td>\n",
       "      <td>13.06</td>\n",
       "      <td>22.01</td>\n",
       "      <td>...</td>\n",
       "      <td>15.8</td>\n",
       "      <td>31.7</td>\n",
       "      <td>4.7</td>\n",
       "      <td>17.4</td>\n",
       "      <td>21.21</td>\n",
       "      <td>9.6</td>\n",
       "      <td>9.2</td>\n",
       "      <td>12</td>\n",
       "      <td>0.360231</td>\n",
       "      <td>0</td>\n",
       "    </tr>\n",
       "    <tr>\n",
       "      <th>1</th>\n",
       "      <td>3</td>\n",
       "      <td>1</td>\n",
       "      <td>February</td>\n",
       "      <td>2</td>\n",
       "      <td>33312</td>\n",
       "      <td>1117</td>\n",
       "      <td>16.35</td>\n",
       "      <td>14.95</td>\n",
       "      <td>13.06</td>\n",
       "      <td>22.01</td>\n",
       "      <td>...</td>\n",
       "      <td>15.8</td>\n",
       "      <td>31.7</td>\n",
       "      <td>4.7</td>\n",
       "      <td>17.4</td>\n",
       "      <td>21.21</td>\n",
       "      <td>9.6</td>\n",
       "      <td>9.2</td>\n",
       "      <td>7</td>\n",
       "      <td>0.210134</td>\n",
       "      <td>0</td>\n",
       "    </tr>\n",
       "    <tr>\n",
       "      <th>2</th>\n",
       "      <td>7</td>\n",
       "      <td>1</td>\n",
       "      <td>March</td>\n",
       "      <td>3</td>\n",
       "      <td>33312</td>\n",
       "      <td>1117</td>\n",
       "      <td>16.35</td>\n",
       "      <td>14.95</td>\n",
       "      <td>13.06</td>\n",
       "      <td>22.01</td>\n",
       "      <td>...</td>\n",
       "      <td>15.8</td>\n",
       "      <td>31.7</td>\n",
       "      <td>4.7</td>\n",
       "      <td>17.4</td>\n",
       "      <td>21.21</td>\n",
       "      <td>9.6</td>\n",
       "      <td>9.2</td>\n",
       "      <td>5</td>\n",
       "      <td>0.150096</td>\n",
       "      <td>0</td>\n",
       "    </tr>\n",
       "    <tr>\n",
       "      <th>3</th>\n",
       "      <td>0</td>\n",
       "      <td>1</td>\n",
       "      <td>April</td>\n",
       "      <td>4</td>\n",
       "      <td>33312</td>\n",
       "      <td>1117</td>\n",
       "      <td>16.35</td>\n",
       "      <td>14.95</td>\n",
       "      <td>13.06</td>\n",
       "      <td>22.01</td>\n",
       "      <td>...</td>\n",
       "      <td>15.8</td>\n",
       "      <td>31.7</td>\n",
       "      <td>4.7</td>\n",
       "      <td>17.4</td>\n",
       "      <td>21.21</td>\n",
       "      <td>9.6</td>\n",
       "      <td>9.2</td>\n",
       "      <td>13</td>\n",
       "      <td>0.390250</td>\n",
       "      <td>0</td>\n",
       "    </tr>\n",
       "    <tr>\n",
       "      <th>4</th>\n",
       "      <td>8</td>\n",
       "      <td>1</td>\n",
       "      <td>May</td>\n",
       "      <td>5</td>\n",
       "      <td>33312</td>\n",
       "      <td>1117</td>\n",
       "      <td>16.35</td>\n",
       "      <td>14.95</td>\n",
       "      <td>13.06</td>\n",
       "      <td>22.01</td>\n",
       "      <td>...</td>\n",
       "      <td>15.8</td>\n",
       "      <td>31.7</td>\n",
       "      <td>4.7</td>\n",
       "      <td>17.4</td>\n",
       "      <td>21.21</td>\n",
       "      <td>9.6</td>\n",
       "      <td>9.2</td>\n",
       "      <td>14</td>\n",
       "      <td>0.420269</td>\n",
       "      <td>0</td>\n",
       "    </tr>\n",
       "  </tbody>\n",
       "</table>\n",
       "<p>5 rows × 21 columns</p>\n",
       "</div>"
      ],
      "text/plain": [
       "   index  HOOD_140 OCC_MONTH  month  POPULATION  POPDENSITY  POPYOUTH1524  \\\n",
       "0      4         1   January      1       33312        1117         16.35   \n",
       "1      3         1  February      2       33312        1117         16.35   \n",
       "2      7         1     March      3       33312        1117         16.35   \n",
       "3      0         1     April      4       33312        1117         16.35   \n",
       "4      8         1       May      5       33312        1117         16.35   \n",
       "\n",
       "   POPSENIOR  POPMALE1529  HIGHRISE  ...  LOW_INCOME  UNAFFORDABLE_HOUSE  \\\n",
       "0      14.95        13.06     22.01  ...        15.8                31.7   \n",
       "1      14.95        13.06     22.01  ...        15.8                31.7   \n",
       "2      14.95        13.06     22.01  ...        15.8                31.7   \n",
       "3      14.95        13.06     22.01  ...        15.8                31.7   \n",
       "4      14.95        13.06     22.01  ...        15.8                31.7   \n",
       "\n",
       "   INADEQUATE_HOUSE  UNSUITABLE_HOUSE  DROPOUT  UNEMPLOYMENT  \\\n",
       "0               4.7              17.4    21.21           9.6   \n",
       "1               4.7              17.4    21.21           9.6   \n",
       "2               4.7              17.4    21.21           9.6   \n",
       "3               4.7              17.4    21.21           9.6   \n",
       "4               4.7              17.4    21.21           9.6   \n",
       "\n",
       "   MALE_UNEMPLOYMENT  count  crime_rate  PEAK_GUNSEASON  \n",
       "0                9.2     12    0.360231               0  \n",
       "1                9.2      7    0.210134               0  \n",
       "2                9.2      5    0.150096               0  \n",
       "3                9.2     13    0.390250               0  \n",
       "4                9.2     14    0.420269               0  \n",
       "\n",
       "[5 rows x 21 columns]"
      ]
     },
     "execution_count": 16,
     "metadata": {},
     "output_type": "execute_result"
    }
   ],
   "source": [
    "df_ols['PEAK_GUNSEASON'] = df_ols['month'].apply(peak)\n",
    "df_ols.head()\n"
   ]
  },
  {
   "cell_type": "code",
   "execution_count": 17,
   "metadata": {},
   "outputs": [],
   "source": [
    "results = ols(\"crime_rate ~ PEAK_GUNSEASON + POPDENSITY + POPMALE1529 + LOW_INCOME+ UNAFFORDABLE_HOUSE + DROPOUT\", data=grouped_df).fit()\n"
   ]
  },
  {
   "cell_type": "code",
   "execution_count": 18,
   "metadata": {},
   "outputs": [
    {
     "name": "stdout",
     "output_type": "stream",
     "text": [
      "MSE:  0.15758119379606927\n",
      "R2 Score:  -0.32160010515771353\n"
     ]
    }
   ],
   "source": [
    "pred_vals = results.predict(df_ols[['PEAK_GUNSEASON', 'POPDENSITY', 'POPMALE1529', 'LOW_INCOME', 'UNAFFORDABLE_HOUSE', 'DROPOUT']])\n",
    "print('MSE: ', np.sqrt(mean_squared_error(pred_vals, df_ols['crime_rate'])))\n",
    "print('R2 Score: ', r2_score(pred_vals,  df_ols['crime_rate']))"
   ]
  },
  {
   "cell_type": "markdown",
   "metadata": {},
   "source": [
    "Adopting the result from ols summary, only the significant variables are kept."
   ]
  },
  {
   "cell_type": "code",
   "execution_count": 19,
   "metadata": {},
   "outputs": [],
   "source": [
    "categorical_features = ['HOOD_140', 'OCC_MONTH']\n",
    "numerical_features = ['POPDENSITY', 'POPYOUTH1524', 'POPMALE1529',\n",
    " 'HIGHRISE', 'SOCIOLONELY', 'LOW_INCOME', 'UNAFFORDABLE_HOUSE', 'INADEQUATE_HOUSE',\n",
    " 'DROPOUT', 'UNEMPLOYMENT', 'MALE_UNEMPLOYMENT']\n",
    "target = 'crime_rate'"
   ]
  },
  {
   "cell_type": "code",
   "execution_count": 20,
   "metadata": {},
   "outputs": [],
   "source": [
    "# train test split\n",
    "X_train, X_test, y_train, y_test = train_test_split(grouped_df[categorical_features + numerical_features], grouped_df[target], \n",
    "    test_size = 0.3, random_state = 2345)"
   ]
  },
  {
   "cell_type": "code",
   "execution_count": 21,
   "metadata": {},
   "outputs": [],
   "source": [
    "cat_transformer = Pipeline(steps = [('onehot', OneHotEncoder(handle_unknown='ignore'))])\n",
    "# simple imputer fills missing value with average, KNNImputer, etc\n",
    "num_transformer = Pipeline(steps = [('scaler', MinMaxScaler())])\n",
    "# minmax transform the data between 0 and 1\n",
    "\n",
    "# building processor\n",
    "preprocessor = ColumnTransformer(transformers = [('cat', cat_transformer, categorical_features),\n",
    "                                                 ('num', num_transformer, numerical_features)])"
   ]
  },
  {
   "cell_type": "code",
   "execution_count": 22,
   "metadata": {},
   "outputs": [
    {
     "name": "stdout",
     "output_type": "stream",
     "text": [
      "MSE value:  0.12578962495700757\n",
      "R2 value:  0.5251108097836035\n"
     ]
    }
   ],
   "source": [
    "ridge_regression = Pipeline(steps = [('preprocessor', preprocessor),\n",
    "                                      ('regressor', Ridge(alpha = 0.01))\n",
    "                                      ])\n",
    "# higher alpha, more penalty\n",
    "# how to know which hyper param is the best? hyper param tuning\n",
    "ridge_regression.fit(X_train, y_train)\n",
    "pred_ridge = ridge_regression.predict(X_test)\n",
    "print('MSE value: ', np.sqrt(mean_squared_error(pred_ridge, y_test)))\n",
    "print('R2 value: ', r2_score(pred_ridge, y_test))"
   ]
  },
  {
   "cell_type": "code",
   "execution_count": 23,
   "metadata": {},
   "outputs": [
    {
     "name": "stdout",
     "output_type": "stream",
     "text": [
      "MSE value:  0.12593871423577624\n",
      "R2 value:  0.5212380654066782\n"
     ]
    },
    {
     "name": "stderr",
     "output_type": "stream",
     "text": [
      "c:\\Users\\13343\\anaconda3\\lib\\site-packages\\sklearn\\linear_model\\_coordinate_descent.py:592: ConvergenceWarning: Objective did not converge. You might want to increase the number of iterations. Duality gap: 2.830000500585335, tolerance: 0.00393020567291922\n",
      "  model = cd_fast.sparse_enet_coordinate_descent(\n"
     ]
    }
   ],
   "source": [
    "lasso_regression = Pipeline(steps = [('preprocessor', preprocessor),\n",
    "                                      ('regressor', Lasso(alpha = 0.000000001))\n",
    "                                      ])\n",
    "lasso_regression.fit(X_train, y_train)\n",
    "pred_ridge = lasso_regression.predict(X_test)\n",
    "print('MSE value: ', np.sqrt(mean_squared_error(pred_ridge, y_test)))\n",
    "print('R2 value: ', r2_score(pred_ridge, y_test))"
   ]
  },
  {
   "cell_type": "markdown",
   "metadata": {},
   "source": [
    "Display the coefficient generated by Lasso and Ridge regression. The coeffs can be interpreted for the influence on crime rate."
   ]
  },
  {
   "cell_type": "code",
   "execution_count": 36,
   "metadata": {},
   "outputs": [],
   "source": [
    "# RIDGE coefficients\n",
    "\n",
    "feature_names = X_train.columns\n",
    "\n",
    "# Getting the coefficients\n",
    "coefficients = ridge_regression.named_steps['regressor'].coef_\n",
    "\n",
    "# # Pair each feature name with its coefficient\n",
    "# feature_coef = list(zip(feature_names, coefficients))\n",
    "\n",
    "# # Filter only those features which have non-zero coefficients\n",
    "# retained_features = [pair for pair in feature_coef if pair[1] != 0]\n",
    "\n",
    "# print(retained_features)"
   ]
  },
  {
   "cell_type": "code",
   "execution_count": 37,
   "metadata": {},
   "outputs": [],
   "source": [
    "# LASSO coefficients\n",
    "\n",
    "feature_names = X_train.columns\n",
    "\n",
    "# Getting the coefficients\n",
    "coefficients = lasso_regression.named_steps['regressor'].coef_\n",
    "\n",
    "\n",
    "\n",
    "# # Pair each feature name with its coefficient\n",
    "# feature_coef = list(zip(feature_names, coefficients))\n",
    "\n",
    "# # Filter only those features which have non-zero coefficients\n",
    "# retained_features = [pair for pair in feature_coef if pair[1] != 0]\n",
    "\n",
    "# print(retained_features)"
   ]
  },
  {
   "cell_type": "markdown",
   "metadata": {},
   "source": [
    "### Analyzing coefficients and features"
   ]
  },
  {
   "cell_type": "code",
   "execution_count": 35,
   "metadata": {},
   "outputs": [
    {
     "name": "stdout",
     "output_type": "stream",
     "text": [
      "['HOOD_140_1', 'HOOD_140_2', 'HOOD_140_3', 'HOOD_140_4', 'HOOD_140_5', 'HOOD_140_6', 'HOOD_140_7', 'HOOD_140_8', 'HOOD_140_9', 'HOOD_140_10', 'HOOD_140_11', 'HOOD_140_12', 'HOOD_140_13', 'HOOD_140_14', 'HOOD_140_15', 'HOOD_140_16', 'HOOD_140_17', 'HOOD_140_18', 'HOOD_140_19', 'HOOD_140_20', 'HOOD_140_21', 'HOOD_140_22', 'HOOD_140_23', 'HOOD_140_24', 'HOOD_140_25', 'HOOD_140_26', 'HOOD_140_27', 'HOOD_140_28', 'HOOD_140_29', 'HOOD_140_30', 'HOOD_140_31', 'HOOD_140_32', 'HOOD_140_33', 'HOOD_140_34', 'HOOD_140_35', 'HOOD_140_36', 'HOOD_140_37', 'HOOD_140_38', 'HOOD_140_39', 'HOOD_140_40', 'HOOD_140_41', 'HOOD_140_42', 'HOOD_140_43', 'HOOD_140_44', 'HOOD_140_45', 'HOOD_140_46', 'HOOD_140_47', 'HOOD_140_48', 'HOOD_140_49', 'HOOD_140_50', 'HOOD_140_51', 'HOOD_140_52', 'HOOD_140_53', 'HOOD_140_54', 'HOOD_140_55', 'HOOD_140_56', 'HOOD_140_57', 'HOOD_140_58', 'HOOD_140_59', 'HOOD_140_60', 'HOOD_140_61', 'HOOD_140_62', 'HOOD_140_63', 'HOOD_140_64', 'HOOD_140_65', 'HOOD_140_66', 'HOOD_140_67', 'HOOD_140_68', 'HOOD_140_69', 'HOOD_140_70', 'HOOD_140_71', 'HOOD_140_72', 'HOOD_140_73', 'HOOD_140_74', 'HOOD_140_75', 'HOOD_140_76', 'HOOD_140_77', 'HOOD_140_78', 'HOOD_140_79', 'HOOD_140_80', 'HOOD_140_81', 'HOOD_140_82', 'HOOD_140_83', 'HOOD_140_84', 'HOOD_140_85', 'HOOD_140_86', 'HOOD_140_87', 'HOOD_140_88', 'HOOD_140_89', 'HOOD_140_90', 'HOOD_140_91', 'HOOD_140_92', 'HOOD_140_93', 'HOOD_140_94', 'HOOD_140_95', 'HOOD_140_96', 'HOOD_140_97', 'HOOD_140_98', 'HOOD_140_99', 'HOOD_140_100', 'HOOD_140_101', 'HOOD_140_102', 'HOOD_140_104', 'HOOD_140_106', 'HOOD_140_107', 'HOOD_140_108', 'HOOD_140_109', 'HOOD_140_110', 'HOOD_140_111', 'HOOD_140_112', 'HOOD_140_113', 'HOOD_140_114', 'HOOD_140_115', 'HOOD_140_116', 'HOOD_140_117', 'HOOD_140_118', 'HOOD_140_119', 'HOOD_140_120', 'HOOD_140_121', 'HOOD_140_122', 'HOOD_140_123', 'HOOD_140_124', 'HOOD_140_125', 'HOOD_140_126', 'HOOD_140_127', 'HOOD_140_128', 'HOOD_140_129', 'HOOD_140_130', 'HOOD_140_131', 'HOOD_140_132', 'HOOD_140_133', 'HOOD_140_134', 'HOOD_140_135', 'HOOD_140_136', 'HOOD_140_137', 'HOOD_140_138', 'HOOD_140_139', 'HOOD_140_140', 'OCC_MONTH_April', 'OCC_MONTH_August', 'OCC_MONTH_December', 'OCC_MONTH_February', 'OCC_MONTH_January', 'OCC_MONTH_July', 'OCC_MONTH_June', 'OCC_MONTH_March', 'OCC_MONTH_May', 'OCC_MONTH_November', 'OCC_MONTH_October', 'OCC_MONTH_September', 'POPDENSITY', 'POPYOUTH1524', 'POPMALE1529', 'HIGHRISE', 'SOCIOLONELY', 'LOW_INCOME', 'UNAFFORDABLE_HOUSE', 'INADEQUATE_HOUSE', 'DROPOUT', 'UNEMPLOYMENT', 'MALE_UNEMPLOYMENT']\n"
     ]
    }
   ],
   "source": [
    "# Extract the processed variable names from the pipeline\n",
    "def get_transformer_feature_names(column_transformer):\n",
    "    output_features = []\n",
    "\n",
    "    for name, pipe, features in column_transformer.transformers_:\n",
    "        if name!='remainder':\n",
    "            for i in pipe:\n",
    "                trans_features = []\n",
    "                if hasattr(i,'categories_'):\n",
    "                    trans_features.extend(i.get_feature_names_out(features))\n",
    "                else:\n",
    "                    trans_features = features\n",
    "            output_features.extend(trans_features)\n",
    "\n",
    "    return output_features\n",
    "\n",
    "# Change this line and you can get the variables from different pipelines.\n",
    "feature_names = get_transformer_feature_names(lasso_regression.named_steps['preprocessor'])\n",
    "print(feature_names)\n"
   ]
  },
  {
   "cell_type": "markdown",
   "metadata": {},
   "source": [
    "Transformed variables and coefficients from selected model"
   ]
  },
  {
   "cell_type": "code",
   "execution_count": 29,
   "metadata": {},
   "outputs": [
    {
     "name": "stdout",
     "output_type": "stream",
     "text": [
      "HOOD_140_1 :  0.1080436938662824\n",
      "HOOD_140_2 :  0.25113440124888714\n",
      "HOOD_140_3 :  0.012733256291014227\n",
      "HOOD_140_4 :  0.07252678880670414\n",
      "HOOD_140_5 :  0.32483722951048577\n",
      "HOOD_140_6 :  0.12219406055179786\n",
      "HOOD_140_7 :  -0.041184096387383094\n",
      "HOOD_140_8 :  0.0030576938073306735\n",
      "HOOD_140_9 :  -0.10280835751644143\n",
      "HOOD_140_10 :  -0.10172730045480903\n",
      "HOOD_140_11 :  -0.08051294280329893\n",
      "HOOD_140_12 :  -0.14847270069781546\n",
      "HOOD_140_13 :  0.0005019015087910228\n",
      "HOOD_140_14 :  -0.12099558064111442\n",
      "HOOD_140_15 :  0.1379653090973642\n",
      "HOOD_140_16 :  -0.14727669522506773\n",
      "HOOD_140_17 :  -0.1427408877058657\n",
      "HOOD_140_18 :  0.010787672424712173\n",
      "HOOD_140_19 :  -0.03961807857131321\n",
      "HOOD_140_20 :  -0.05867440495851132\n",
      "HOOD_140_21 :  0.6162122667612968\n",
      "HOOD_140_22 :  0.1682071385500465\n",
      "HOOD_140_23 :  0.046732630719433836\n",
      "HOOD_140_24 :  0.539954143033956\n",
      "HOOD_140_25 :  0.571167206400633\n",
      "HOOD_140_26 :  0.12284033339252899\n",
      "HOOD_140_27 :  0.14301188635853218\n",
      "HOOD_140_28 :  0.544885261108464\n",
      "HOOD_140_29 :  -0.0003324344337018752\n",
      "HOOD_140_30 :  0.05673199164751443\n",
      "HOOD_140_31 :  0.44940211122996254\n",
      "HOOD_140_32 :  0.20089329296543743\n",
      "HOOD_140_33 :  -0.08731308391519284\n",
      "HOOD_140_34 :  -0.16619455443418982\n",
      "HOOD_140_35 :  -0.15732481064226553\n",
      "HOOD_140_36 :  -0.14271774660082986\n",
      "HOOD_140_37 :  -0.1913526381985272\n",
      "HOOD_140_38 :  -0.10622726930901485\n",
      "HOOD_140_39 :  -0.17874046461993037\n",
      "HOOD_140_40 :  -0.08704583305852409\n",
      "HOOD_140_41 :  -0.022636247070966377\n",
      "HOOD_140_42 :  -0.1281100623054777\n",
      "HOOD_140_43 :  0.023400378756232392\n",
      "HOOD_140_44 :  0.1799144824357716\n",
      "HOOD_140_45 :  -0.0920729354880352\n",
      "HOOD_140_46 :  -0.1008553612139395\n",
      "HOOD_140_47 :  -0.11614688637519975\n",
      "HOOD_140_48 :  -0.12054335115797485\n",
      "HOOD_140_49 :  -0.040856125057103156\n",
      "HOOD_140_50 :  -0.05451809679402093\n",
      "HOOD_140_51 :  -0.16347530442676267\n",
      "HOOD_140_52 :  -0.1527558395451137\n",
      "HOOD_140_53 :  -0.08680909112571271\n",
      "HOOD_140_54 :  -0.05608268877941399\n",
      "HOOD_140_55 :  0.005827067717917904\n",
      "HOOD_140_56 :  -0.1782168651035841\n",
      "HOOD_140_57 :  -0.12828687734186983\n",
      "HOOD_140_58 :  -0.010542445148324826\n",
      "HOOD_140_59 :  -0.14520111216829715\n",
      "HOOD_140_60 :  -0.08397456303950215\n",
      "HOOD_140_61 :  -0.07454455124924217\n",
      "HOOD_140_62 :  -0.0689941712626685\n",
      "HOOD_140_63 :  -0.1407543887114081\n",
      "HOOD_140_64 :  -0.1172373270638612\n",
      "HOOD_140_65 :  -0.07006206567878077\n",
      "HOOD_140_66 :  0.013630335722184516\n",
      "HOOD_140_67 :  -0.015594501437036957\n",
      "HOOD_140_68 :  -0.11440837728505604\n",
      "HOOD_140_69 :  0.19798647504901135\n",
      "HOOD_140_70 :  -0.060147523048553635\n",
      "HOOD_140_71 :  -0.08565044065346981\n",
      "HOOD_140_72 :  0.7692784782149699\n",
      "HOOD_140_73 :  0.10062020085383058\n",
      "HOOD_140_74 :  -0.03887407792964466\n",
      "HOOD_140_75 :  -0.03666006065577402\n",
      "HOOD_140_76 :  -0.02722269704356524\n",
      "HOOD_140_77 :  -0.015405585261274796\n",
      "HOOD_140_78 :  0.2560536245886973\n",
      "HOOD_140_79 :  -0.03806708919331761\n",
      "HOOD_140_80 :  -0.16345794133099376\n",
      "HOOD_140_81 :  -0.08332460401148377\n",
      "HOOD_140_82 :  -0.10597039007081581\n",
      "HOOD_140_83 :  -0.03366040896083721\n",
      "HOOD_140_84 :  -0.08886139663758863\n",
      "HOOD_140_85 :  0.019535117013873636\n",
      "HOOD_140_86 :  -0.06156274403532288\n",
      "HOOD_140_87 :  -0.08855613416718079\n",
      "HOOD_140_88 :  -0.08214356464014952\n",
      "HOOD_140_89 :  -0.1056083309927717\n",
      "HOOD_140_90 :  -0.1394401615417682\n",
      "HOOD_140_91 :  0.027574301525635083\n",
      "HOOD_140_92 :  -0.0901978356144876\n",
      "HOOD_140_93 :  -0.08945393788836889\n",
      "HOOD_140_94 :  -0.07817894480201816\n",
      "HOOD_140_95 :  -0.12513500485018803\n",
      "HOOD_140_96 :  -0.045182455265859754\n",
      "HOOD_140_97 :  -0.13150022817658225\n",
      "HOOD_140_98 :  -0.1498284421926956\n",
      "HOOD_140_99 :  -0.14324007670342698\n",
      "HOOD_140_100 :  -0.14735774041890826\n",
      "HOOD_140_101 :  -0.15498150651735532\n",
      "HOOD_140_102 :  -0.1124085604651649\n",
      "HOOD_140_104 :  -0.1633022016895759\n",
      "HOOD_140_106 :  -0.18581991985230342\n",
      "HOOD_140_107 :  0.0775929552310137\n",
      "HOOD_140_108 :  -0.005024526529496049\n",
      "HOOD_140_109 :  -0.07655899687656555\n",
      "HOOD_140_110 :  0.03993326806854992\n",
      "HOOD_140_111 :  0.14796989323939608\n",
      "HOOD_140_112 :  0.33588336631105387\n",
      "HOOD_140_113 :  0.24905992019351245\n",
      "HOOD_140_114 :  0.014369763060498728\n",
      "HOOD_140_115 :  0.08772577182387092\n",
      "HOOD_140_116 :  -0.1687223819820663\n",
      "HOOD_140_117 :  -0.0028021895872750433\n",
      "HOOD_140_118 :  -0.09845921992422627\n",
      "HOOD_140_119 :  -0.03153402989753222\n",
      "HOOD_140_120 :  -0.023740508597668627\n",
      "HOOD_140_121 :  0.1857057656800807\n",
      "HOOD_140_122 :  -0.13879814206271385\n",
      "HOOD_140_123 :  -0.02682024675087724\n",
      "HOOD_140_124 :  -0.08885888613545175\n",
      "HOOD_140_125 :  -0.08560152484932955\n",
      "HOOD_140_126 :  0.051050503852081285\n",
      "HOOD_140_127 :  -0.03112116000041184\n",
      "HOOD_140_128 :  -0.078720667797449\n",
      "HOOD_140_129 :  -0.17325811497134877\n",
      "HOOD_140_130 :  -0.0560123707518632\n",
      "HOOD_140_131 :  -0.06137559372803046\n",
      "HOOD_140_132 :  0.10079272650180054\n",
      "HOOD_140_133 :  -0.13454349763759046\n",
      "HOOD_140_134 :  -0.08619954285087895\n",
      "HOOD_140_135 :  0.019622981072534403\n",
      "HOOD_140_136 :  0.0431014911411232\n",
      "HOOD_140_137 :  -0.0052155232187987705\n",
      "HOOD_140_138 :  0.05580185633886278\n",
      "HOOD_140_139 :  0.059093154570435694\n",
      "HOOD_140_140 :  -0.0999910299384236\n",
      "OCC_MONTH_April :  -0.03243820983882835\n",
      "OCC_MONTH_August :  0.04033459099415134\n",
      "OCC_MONTH_December :  -0.05217901516839738\n",
      "OCC_MONTH_February :  -0.08130966844560902\n",
      "OCC_MONTH_January :  -0.024351490431154085\n",
      "OCC_MONTH_July :  0.034386354880053205\n",
      "OCC_MONTH_June :  0.034832086939168554\n",
      "OCC_MONTH_March :  -0.020564854882321543\n",
      "OCC_MONTH_May :  0.016729254719531274\n",
      "OCC_MONTH_November :  -0.02492360551904236\n",
      "OCC_MONTH_October :  -0.01413980328956121\n",
      "OCC_MONTH_September :  0.034731423791676416\n",
      "POPDENSITY :  -0.003792759500466778\n",
      "POPYOUTH1524 :  -0.009471195060777371\n",
      "POPMALE1529 :  -0.004428579689258273\n",
      "HIGHRISE :  -0.0008027871671649809\n",
      "SOCIOLONELY :  -0.0038692995201660583\n",
      "LOW_INCOME :  0.00034940532436616203\n",
      "UNAFFORDABLE_HOUSE :  -0.004322931104423545\n",
      "INADEQUATE_HOUSE :  0.0015215860364689699\n",
      "DROPOUT :  0.001991484075307195\n",
      "UNEMPLOYMENT :  0.007000277904228408\n",
      "MALE_UNEMPLOYMENT :  -0.004375400193889141\n"
     ]
    }
   ],
   "source": [
    "for i in range(len(feature_names)):\n",
    "    print(feature_names[i], ': ', coefficients[i])"
   ]
  },
  {
   "cell_type": "code",
   "execution_count": 28,
   "metadata": {},
   "outputs": [
    {
     "name": "stdout",
     "output_type": "stream",
     "text": [
      "original rate:  0.17196247497667416\n",
      "reduce 15 percent dropout rate:  0.17113773005316207\n",
      "reduce 15 percent unemployment rate:  0.16074127772014957\n"
     ]
    }
   ],
   "source": [
    "original_data = X_test\n",
    "# print(original_data.head())\n",
    "print(\"original rate: \", np.median(lasso_regression.predict(original_data)))\n",
    "\n",
    "test_data = original_data\n",
    "test_data['DROPOUT'] = test_data['DROPOUT'] - 15\n",
    "# print(test_data.head())\n",
    "print(\"reduce 15 percent dropout rate: \", np.median(lasso_regression.predict(test_data)))\n",
    "\n",
    "test_data = original_data\n",
    "test_data['UNEMPLOYMENT'] = test_data['UNEMPLOYMENT'] - 15\n",
    "# print(test_data.head())\n",
    "print(\"reduce 15 percent unemployment rate: \", np.median(lasso_regression.predict(test_data)))"
   ]
  },
  {
   "cell_type": "code",
   "execution_count": 32,
   "metadata": {},
   "outputs": [],
   "source": [
    "from sklearn.ensemble import RandomForestRegressor\n",
    "from sklearn.datasets import make_regression\n",
    "import matplotlib.pyplot as plt"
   ]
  },
  {
   "cell_type": "code",
   "execution_count": 33,
   "metadata": {},
   "outputs": [
    {
     "data": {
      "text/plain": [
       "[<matplotlib.lines.Line2D at 0x264a67171c0>]"
      ]
     },
     "execution_count": 33,
     "metadata": {},
     "output_type": "execute_result"
    },
    {
     "data": {
      "image/png": "[encoded data removed]",
      "text/plain": [
       "<Figure size 640x480 with 1 Axes>"
      ]
     },
     "metadata": {},
     "output_type": "display_data"
    },
    {
     "data": {
      "image/png": "[encoded data removed]",
      "text/plain": [
       "<Figure size 640x480 with 1 Axes>"
      ]
     },
     "metadata": {},
     "output_type": "display_data"
    }
   ],
   "source": [
    "MSE_score = []\n",
    "R2_score = []\n",
    "for i in [2,3,5,7,9,11,13,15]:\n",
    "    regr = Pipeline(steps = [('preprocessor', preprocessor),\n",
    "                                        ('regressor', RandomForestRegressor(max_depth=i))\n",
    "                                        ])\n",
    "    regr.fit(X_train, y_train)\n",
    "    y_pred = regr.predict(X_test)\n",
    "    MSE_score.append(np.sqrt(mean_squared_error(y_pred, y_test)))\n",
    "    R2_score.append(r2_score(y_pred, y_test))\n",
    "\n",
    "plt.figure()\n",
    "plt.plot(MSE_score)\n",
    "plt.figure()\n",
    "plt.plot(R2_score)"
   ]
  },
  {
   "cell_type": "code",
   "execution_count": 34,
   "metadata": {},
   "outputs": [
    {
     "name": "stdout",
     "output_type": "stream",
     "text": [
      "0.16767721310078365\n"
     ]
    }
   ],
   "source": [
    "print(MSE_score[4])"
   ]
  },
  {
   "cell_type": "markdown",
   "metadata": {},
   "source": [
    "Random forest regressor: in the 5th iteration, with the depth of 11, it achieves the best performance and lowest error of 0.1278."
   ]
  }
 ],
 "metadata": {
  "kernelspec": {
   "display_name": "base",
   "language": "python",
   "name": "python3"
  },
  "language_info": {
   "codemirror_mode": {
    "name": "ipython",
    "version": 3
   },
   "file_extension": ".py",
   "mimetype": "text/x-python",
   "name": "python",
   "nbconvert_exporter": "python",
   "pygments_lexer": "ipython3",
   "version": "3.10.9"
  },
  "orig_nbformat": 4
 },
 "nbformat": 4,
 "nbformat_minor": 2
}
